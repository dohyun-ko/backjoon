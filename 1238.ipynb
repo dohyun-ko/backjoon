{
 "cells": [
  {
   "cell_type": "code",
   "execution_count": 103,
   "metadata": {},
   "outputs": [],
   "source": [
    "N, M, X = map(int, input().split())"
   ]
  },
  {
   "cell_type": "code",
   "execution_count": 104,
   "metadata": {},
   "outputs": [],
   "source": [
    "distances = [[(float(\"inf\"), i) for i in range(N + 1)] for j in range(N + 1)]\n",
    "distances_reversed = [[(float(\"inf\"), i) for i in range(N + 1)] for j in range(N + 1)]\n",
    "for _ in range(M):\n",
    "  a, b, c = map(int, input().split())\n",
    "  distances[a][b] = (c, b)\n",
    "  distances_reversed[b][a] = (c, a)"
   ]
  },
  {
   "cell_type": "code",
   "execution_count": 105,
   "metadata": {},
   "outputs": [],
   "source": [
    "import heapq\n",
    "\n",
    "def dijkstra(start, distances):\n",
    "  q = distances[start].copy()\n",
    "\n",
    "  heapq.heapify(q)\n",
    "\n",
    "  while q:\n",
    "    dist, now = heapq.heappop(q)\n",
    "\n",
    "    if distances[start][now][0] < dist:\n",
    "      continue\n",
    "\n",
    "    for c, e in distances[now]:\n",
    "      cost = dist + c\n",
    "\n",
    "      if cost < distances[start][e][0]:\n",
    "        distances[start][e] = (cost, e)\n",
    "        heapq.heappush(q, (cost, e))"
   ]
  },
  {
   "cell_type": "code",
   "execution_count": null,
   "metadata": {},
   "outputs": [],
   "source": [
    "for i in range(N + 1):\n",
    "  distances[i][i] = (0, i)"
   ]
  },
  {
   "cell_type": "code",
   "execution_count": 106,
   "metadata": {},
   "outputs": [],
   "source": [
    "dijkstra(X, distances)\n",
    "dijkstra(X, distances_reversed)"
   ]
  },
  {
   "cell_type": "code",
   "execution_count": 107,
   "metadata": {},
   "outputs": [],
   "source": [
    "max_dist = 0\n",
    "for i in range(1, N + 1):\n",
    "  max_dist = max(distances[X][i][0] + distances_reversed[X][i][0], max_dist)"
   ]
  },
  {
   "cell_type": "code",
   "execution_count": 108,
   "metadata": {},
   "outputs": [
    {
     "name": "stdout",
     "output_type": "stream",
     "text": [
      "28\n"
     ]
    }
   ],
   "source": [
    "print(max_dist)"
   ]
  },
  {
   "cell_type": "code",
   "execution_count": null,
   "metadata": {},
   "outputs": [],
   "source": []
  }
 ],
 "metadata": {
  "kernelspec": {
   "display_name": "base",
   "language": "python",
   "name": "python3"
  },
  "language_info": {
   "codemirror_mode": {
    "name": "ipython",
    "version": 3
   },
   "file_extension": ".py",
   "mimetype": "text/x-python",
   "name": "python",
   "nbconvert_exporter": "python",
   "pygments_lexer": "ipython3",
   "version": "3.11.4"
  }
 },
 "nbformat": 4,
 "nbformat_minor": 2
}
