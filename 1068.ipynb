{
 "cells": [
  {
   "cell_type": "code",
   "execution_count": 95,
   "metadata": {},
   "outputs": [],
   "source": [
    "class Node:\n",
    "  def __init__(self):\n",
    "    self.parent = None\n",
    "    self.children = []\n",
    "    \n",
    "  def __str__(self):\n",
    "    return f'\"{self.parent}, {self.children}\"'\n",
    "  \n",
    "  def __repr__(self):\n",
    "    return f'\"{self.parent}, {self.children}\"'\n",
    "\n",
    "  def set_parent(self, parent):\n",
    "    self.parent = parent\n",
    "    \n",
    "  def append_children(self, value):\n",
    "    self.children.append(value)\n",
    "\n",
    "  def set_children(self, children):\n",
    "    self.children = children"
   ]
  },
  {
   "cell_type": "code",
   "execution_count": 96,
   "metadata": {},
   "outputs": [],
   "source": [
    "N = int(input())\n",
    "\n",
    "tree = [Node() for i in range(N)]\n",
    "tree.append(Node()) # index -1: root\n",
    "tree[-1].set_parent(-2)\n",
    "\n",
    "idx = 0\n",
    "for i in map(int, input().split()):\n",
    "  tree[i].append_children(idx)\n",
    "  tree[idx].set_parent(i)\n",
    "  idx += 1"
   ]
  },
  {
   "cell_type": "code",
   "execution_count": 97,
   "metadata": {},
   "outputs": [],
   "source": [
    "def delete_node(node):\n",
    "  children = tree[node].children\n",
    "  for child in children:\n",
    "    delete_node(child)\n",
    "  \n",
    "  parent = tree[node].parent\n",
    "  tree[parent].set_children(list(filter(lambda x: x != node, tree[parent].children)))\n",
    "  tree[node] = None"
   ]
  },
  {
   "cell_type": "code",
   "execution_count": 98,
   "metadata": {},
   "outputs": [],
   "source": [
    "node_to_delete = int(input())\n",
    "delete_node(node_to_delete)"
   ]
  },
  {
   "cell_type": "code",
   "execution_count": 99,
   "metadata": {},
   "outputs": [],
   "source": [
    "number_of_leaf = 0\n",
    "for node in tree:\n",
    "  if node and node.children == [] and node.parent != -2:\n",
    "    number_of_leaf += 1"
   ]
  },
  {
   "cell_type": "code",
   "execution_count": 100,
   "metadata": {},
   "outputs": [
    {
     "name": "stdout",
     "output_type": "stream",
     "text": [
      "1\n"
     ]
    }
   ],
   "source": [
    "print(number_of_leaf)"
   ]
  }
 ],
 "metadata": {
  "kernelspec": {
   "display_name": "base",
   "language": "python",
   "name": "python3"
  },
  "language_info": {
   "codemirror_mode": {
    "name": "ipython",
    "version": 3
   },
   "file_extension": ".py",
   "mimetype": "text/x-python",
   "name": "python",
   "nbconvert_exporter": "python",
   "pygments_lexer": "ipython3",
   "version": "3.11.8"
  }
 },
 "nbformat": 4,
 "nbformat_minor": 2
}
