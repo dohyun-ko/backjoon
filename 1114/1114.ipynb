{
 "cells": [
  {
   "cell_type": "code",
   "execution_count": 1,
   "metadata": {},
   "outputs": [],
   "source": [
    "import sys\n",
    "sys.setrecursionlimit(10 ** 6)\n",
    "\n",
    "L, K, C = list(map(lambda x: int(x), input().split(\" \")))\n",
    "cut_points_list = list(map(lambda x: int(x), input().split(\" \")))\n",
    "cut_points = sorted(list(set(cut_points_list)))\n",
    "\n",
    "memos = {}"
   ]
  },
  {
   "cell_type": "code",
   "execution_count": 21,
   "metadata": {},
   "outputs": [],
   "source": []
  },
  {
   "cell_type": "code",
   "execution_count": 22,
   "metadata": {},
   "outputs": [],
   "source": [
    "def rec_cut(c, longest, i, left, first_cut_point):\n",
    "  global counter\n",
    "\n",
    "  key = (c, longest, i, left, first_cut_point)\n",
    "\n",
    "  if key in memos:\n",
    "    return memos[key]\n",
    "\n",
    "  if c == C - 1:\n",
    "    first_cut_point = left\n",
    "\n",
    "  if c < 1:\n",
    "    result = max(longest, L - left), first_cut_point\n",
    "    memos[key] = result\n",
    "    return result\n",
    "  \n",
    "  if i >= len(cut_points):\n",
    "    result = max(longest, L - left), first_cut_point\n",
    "    memos[key] = result\n",
    "    return result\n",
    "\n",
    "\n",
    "  r1 = rec_cut(c, longest, i + 1, left, first_cut_point)\n",
    "  r2 = rec_cut(c - 1, max(longest, cut_points[i] - left), i + 1, cut_points[i], first_cut_point)\n",
    "    \n",
    "  if r1[0] > r2[0]:\n",
    "    memos[key] = r2\n",
    "    return r2\n",
    "  elif r2[0] > r1[0]:\n",
    "    memos[key] = r1\n",
    "    return r1\n",
    "  else:\n",
    "    if r1[1] < r2[1]:\n",
    "      memos[key] = r1\n",
    "      return r1\n",
    "    else:\n",
    "      memos[key] = r2\n",
    "      return r2\n",
    "  "
   ]
  },
  {
   "cell_type": "code",
   "execution_count": 23,
   "metadata": {},
   "outputs": [
    {
     "name": "stdout",
     "output_type": "stream",
     "text": [
      "1 1\n"
     ]
    }
   ],
   "source": [
    "result = rec_cut(C, 0, 0, 0, 0)\n",
    "print(result[0], result[1])"
   ]
  },
  {
   "cell_type": "code",
   "execution_count": null,
   "metadata": {},
   "outputs": [],
   "source": []
  }
 ],
 "metadata": {
  "kernelspec": {
   "display_name": "Python 3",
   "language": "python",
   "name": "python3"
  },
  "language_info": {
   "codemirror_mode": {
    "name": "ipython",
    "version": 3
   },
   "file_extension": ".py",
   "mimetype": "text/x-python",
   "name": "python",
   "nbconvert_exporter": "python",
   "pygments_lexer": "ipython3",
   "version": "3.11.4"
  }
 },
 "nbformat": 4,
 "nbformat_minor": 2
}
