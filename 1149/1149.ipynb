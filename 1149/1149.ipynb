{
 "cells": [
  {
   "cell_type": "code",
   "execution_count": 14,
   "metadata": {},
   "outputs": [],
   "source": [
    "n = int(input())\n",
    "costs = []\n",
    "for i in range(n):\n",
    "    costs.append(list(map(int, input().split())))\n"
   ]
  },
  {
   "cell_type": "code",
   "execution_count": 24,
   "metadata": {},
   "outputs": [
    {
     "data": {
      "text/plain": [
       "[[1, 100, 100], [100, 1, 100], [100, 100, 1]]"
      ]
     },
     "execution_count": 24,
     "metadata": {},
     "output_type": "execute_result"
    }
   ],
   "source": [
    "costs"
   ]
  },
  {
   "cell_type": "code",
   "execution_count": null,
   "metadata": {},
   "outputs": [],
   "source": []
  },
  {
   "cell_type": "code",
   "execution_count": 32,
   "metadata": {},
   "outputs": [],
   "source": [
    "memos = {}\n",
    "def cal_min_cost(arr, ban):\t\n",
    "\tkey = (str(arr), ban)\n",
    "\tif key in memos:\n",
    "\t\treturn memos[key]\n",
    "\n",
    "\tif len(arr) == 1:\n",
    "\t\tif ban == 0:\n",
    "\t\t\tmin_cost = min(arr[0][1], arr[0][2])\n",
    "\t\telif ban == 1:\n",
    "\t\t\tmin_cost = min(arr[0][0], arr[0][2])\n",
    "\t\telif ban == 2:\n",
    "\t\t\tmin_cost = min(arr[0][0], arr[0][1])\n",
    "\t\tmemos[key] = min_cost\n",
    "\t\treturn min_cost\n",
    "\t\n",
    "\tif ban == 0:\n",
    "\t\tmin_cost = min(cal_min_cost(arr[1:], 1) + arr[0][1], cal_min_cost(arr[1:], 2) + arr[0][2])\n",
    "\telif ban == 1:\n",
    "\t\tmin_cost = min(cal_min_cost(arr[1:], 0) + arr[0][0], cal_min_cost(arr[1:], 2) + arr[0][2])\n",
    "\telif ban == 2:\n",
    "\t\tmin_cost = min(cal_min_cost(arr[1:], 0) + arr[0][0], cal_min_cost(arr[1:], 1) + arr[0][1])\n",
    "\t\n",
    "\tmemos[key] = min_cost\n",
    "\treturn min_cost\n",
    "\n",
    "\t"
   ]
  },
  {
   "cell_type": "code",
   "execution_count": 33,
   "metadata": {},
   "outputs": [],
   "source": [
    "min_cost = min([cal_min_cost(costs, 0), cal_min_cost(costs, 1), cal_min_cost(costs, 2)]) "
   ]
  },
  {
   "cell_type": "code",
   "execution_count": 34,
   "metadata": {},
   "outputs": [
    {
     "data": {
      "text/plain": [
       "3"
      ]
     },
     "execution_count": 34,
     "metadata": {},
     "output_type": "execute_result"
    }
   ],
   "source": [
    "min_cost"
   ]
  },
  {
   "cell_type": "code",
   "execution_count": 35,
   "metadata": {},
   "outputs": [
    {
     "data": {
      "text/plain": [
       "{('[[100, 100, 1]]', 0): 1,\n",
       " ('[[100, 100, 1]]', 2): 100,\n",
       " ('[[100, 1, 100], [100, 100, 1]]', 1): 101,\n",
       " ('[[100, 100, 1]]', 1): 1,\n",
       " ('[[100, 1, 100], [100, 100, 1]]', 2): 2,\n",
       " ('[[1, 100, 100], [100, 1, 100], [100, 100, 1]]', 0): 102,\n",
       " ('[[100, 1, 100], [100, 100, 1]]', 0): 2,\n",
       " ('[[1, 100, 100], [100, 1, 100], [100, 100, 1]]', 1): 3,\n",
       " ('[[1, 100, 100], [100, 1, 100], [100, 100, 1]]', 2): 3}"
      ]
     },
     "execution_count": 35,
     "metadata": {},
     "output_type": "execute_result"
    }
   ],
   "source": [
    "memos"
   ]
  }
 ],
 "metadata": {
  "kernelspec": {
   "display_name": "Python 3",
   "language": "python",
   "name": "python3"
  },
  "language_info": {
   "codemirror_mode": {
    "name": "ipython",
    "version": 3
   },
   "file_extension": ".py",
   "mimetype": "text/x-python",
   "name": "python",
   "nbconvert_exporter": "python",
   "pygments_lexer": "ipython3",
   "version": "3.11.4"
  }
 },
 "nbformat": 4,
 "nbformat_minor": 2
}
