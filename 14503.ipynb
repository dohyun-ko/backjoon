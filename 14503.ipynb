{
 "cells": [
  {
   "cell_type": "code",
   "execution_count": 15,
   "metadata": {},
   "outputs": [],
   "source": [
    "N, M = list(map(int, input().split()))\n",
    "pos_raw = list(map(int, input().split()))\n",
    "grid = [list(map(int, input().split())) for _ in range(N)]"
   ]
  },
  {
   "cell_type": "code",
   "execution_count": 87,
   "metadata": {},
   "outputs": [],
   "source": [
    "pos = (pos_raw[0], pos_raw[1])\n",
    "direction = pos_raw[2]"
   ]
  },
  {
   "cell_type": "code",
   "execution_count": 88,
   "metadata": {},
   "outputs": [],
   "source": [
    "import copy\n",
    "\n",
    "room = copy.deepcopy(grid)"
   ]
  },
  {
   "cell_type": "code",
   "execution_count": 89,
   "metadata": {},
   "outputs": [],
   "source": [
    "def list_cleanable(n, m):\n",
    "  adjs = []\n",
    "  movable = []\n",
    "\n",
    "  if n > 0:\n",
    "    adjs.append((n-1,m))\n",
    "  if n < N-1:\n",
    "    adjs.append((n+1,m))\n",
    "  if m > 0:\n",
    "    adjs.append((n,m-1))\n",
    "  if m < M-1:\n",
    "    adjs.append((n,m+1))\n",
    "\n",
    "  for adj in adjs:\n",
    "    if room[adj[0]][adj[1]] == 0:\n",
    "      movable.append(adj)\n",
    "  \n",
    "  return movable"
   ]
  },
  {
   "cell_type": "code",
   "execution_count": 90,
   "metadata": {},
   "outputs": [],
   "source": [
    "def direction_to_tuple(direction):\n",
    "  if direction == 0:\n",
    "    return (-1, 0)\n",
    "  if direction == 1:\n",
    "    return (0, 1)\n",
    "  if direction == 2:\n",
    "    return (1, 0)\n",
    "  if direction == 3:\n",
    "    return (0, -1)"
   ]
  },
  {
   "cell_type": "code",
   "execution_count": 91,
   "metadata": {},
   "outputs": [],
   "source": [
    "num_of_cleaned = 0\n",
    "\n",
    "while True:\n",
    "  # print(\"--------\")\n",
    "  # print(num_of_cleaned)\n",
    "  # print_room()\n",
    "  \n",
    "  if room[pos[0]][pos[1]] == 0:\n",
    "    num_of_cleaned += 1\n",
    "    room[pos[0]][pos[1]] = 9 # cleaned\n",
    "\n",
    "  cleanable = list_cleanable(pos[0], pos[1])\n",
    "  # print(pos, direction, cleanable)\n",
    "\n",
    "  if cleanable:\n",
    "    # print(\"cleanable!\")\n",
    "    while True:\n",
    "      direction -= 1\n",
    "      if direction == -1:\n",
    "        direction = 3\n",
    "\n",
    "      d_pos = direction_to_tuple(direction)\n",
    "      new_pos = (pos[0]+d_pos[0], pos[1]+d_pos[1])\n",
    "\n",
    "      if room[new_pos[0]][new_pos[1]] == 0:\n",
    "        pos = new_pos\n",
    "        break\n",
    "  else:\n",
    "    counter_direction = (direction + 2) % 4\n",
    "    d_pos = direction_to_tuple(counter_direction)\n",
    "    # print(\"counter and d\", counter_direction, d_pos)\n",
    "    new_pos = (pos[0]+d_pos[0], pos[1]+d_pos[1])\n",
    "    # print(\"going back to\", new_pos)\n",
    "    if 0 <= new_pos[0] < N and 0 <= new_pos[1] < M:\n",
    "      if room[new_pos[0]][new_pos[1]] != 1:\n",
    "        pos = new_pos\n",
    "        continue\n",
    "      else:\n",
    "        break\n",
    "    else:\n",
    "      break\n",
    "    "
   ]
  },
  {
   "cell_type": "code",
   "execution_count": 86,
   "metadata": {},
   "outputs": [
    {
     "name": "stdout",
     "output_type": "stream",
     "text": [
      "57\n"
     ]
    }
   ],
   "source": [
    "print(num_of_cleaned)"
   ]
  },
  {
   "cell_type": "code",
   "execution_count": 59,
   "metadata": {},
   "outputs": [],
   "source": [
    "def print_room():\n",
    "  for r in room:\n",
    "    print(r)"
   ]
  },
  {
   "cell_type": "code",
   "execution_count": null,
   "metadata": {},
   "outputs": [],
   "source": []
  }
 ],
 "metadata": {
  "kernelspec": {
   "display_name": "base",
   "language": "python",
   "name": "python3"
  },
  "language_info": {
   "codemirror_mode": {
    "name": "ipython",
    "version": 3
   },
   "file_extension": ".py",
   "mimetype": "text/x-python",
   "name": "python",
   "nbconvert_exporter": "python",
   "pygments_lexer": "ipython3",
   "version": "3.11.8"
  }
 },
 "nbformat": 4,
 "nbformat_minor": 2
}
