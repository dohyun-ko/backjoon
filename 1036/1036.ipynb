{
 "cells": [
  {
   "cell_type": "code",
   "execution_count": 13,
   "metadata": {},
   "outputs": [],
   "source": [
    "n = int(input())\n",
    "\n",
    "numbers = []\n",
    "\n",
    "for i in range(n):\n",
    "  numbers.append(list(input()))\n",
    "\n",
    "k = int(input())"
   ]
  },
  {
   "cell_type": "code",
   "execution_count": 37,
   "metadata": {},
   "outputs": [],
   "source": [
    "def to_decimal(thirty_six):\n",
    "  copied = thirty_six[:]\n",
    "\n",
    "  decimal = 0\n",
    "\n",
    "  for i in range(len(copied)):\n",
    "    target = ord(copied.pop())\n",
    "    cipher = 0\n",
    "    if target >= 48 and target <= 57:\n",
    "      cipher = target - 48\n",
    "    else:\n",
    "      cipher = target - 55\n",
    "\n",
    "    decimal += cipher * (36 ** i)\n",
    "  \n",
    "  return decimal"
   ]
  },
  {
   "cell_type": "code",
   "execution_count": 38,
   "metadata": {},
   "outputs": [],
   "source": [
    "def to_thirty_six(decimal):\n",
    "  thirty_six = []\n",
    "\n",
    "  while decimal != 0:\n",
    "    cipher = decimal % 36\n",
    "    decimal //= 36\n",
    "    \n",
    "    if cipher < 10:\n",
    "      thirty_six.append(chr(cipher + 48))\n",
    "    else:\n",
    "      thirty_six.append(chr(cipher + 55))\n",
    "\n",
    "  thirty_six.reverse()\n",
    "\n",
    "  return thirty_six\n",
    "      "
   ]
  },
  {
   "cell_type": "code",
   "execution_count": null,
   "metadata": {},
   "outputs": [],
   "source": []
  }
 ],
 "metadata": {
  "kernelspec": {
   "display_name": "Python 3",
   "language": "python",
   "name": "python3"
  },
  "language_info": {
   "codemirror_mode": {
    "name": "ipython",
    "version": 3
   },
   "file_extension": ".py",
   "mimetype": "text/x-python",
   "name": "python",
   "nbconvert_exporter": "python",
   "pygments_lexer": "ipython3",
   "version": "3.11.4"
  }
 },
 "nbformat": 4,
 "nbformat_minor": 2
}
