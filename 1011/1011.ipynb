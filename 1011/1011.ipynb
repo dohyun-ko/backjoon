{
 "cells": [
  {
   "cell_type": "code",
   "execution_count": 9,
   "metadata": {},
   "outputs": [],
   "source": [
    "n = int(input())\n",
    "\n",
    "paths = []\n",
    "\n",
    "for i in range(n):\n",
    "\tx, y = input().split()\n",
    "\tpaths.append((int(x), int(y)))"
   ]
  },
  {
   "cell_type": "code",
   "execution_count": 33,
   "metadata": {},
   "outputs": [],
   "source": [
    "def decideK(gap):\n",
    "\tk = 1\n",
    "\twhile True:\n",
    "\t\tk_to_1 = (k * (1 + k) / 2) * 2 - k\n",
    "\t\tif k_to_1 > gap:\n",
    "\t\t\treturn k - 1\n",
    "\t\telse:\n",
    "\t\t\tk = k + 1"
   ]
  },
  {
   "cell_type": "code",
   "execution_count": 36,
   "metadata": {},
   "outputs": [],
   "source": [
    "def calculateSteps(x, y):\n",
    "\tgap = y - x\n",
    "\tk = decideK(gap)\n",
    "\tadditional = 0\n",
    "\trest = gap - ((k * (1 + k) / 2) * 2 - k)\n",
    "\tj = k\n",
    "\twhile rest > 0:\n",
    "\t\tif rest >= j:\n",
    "\t\t\trest = rest - j\n",
    "\t\t\tadditional = additional + 1\n",
    "\t\telse:\n",
    "\t\t\tj = j - 1\n",
    "\n",
    "\treturn 2 * k - 1 + additional"
   ]
  },
  {
   "cell_type": "code",
   "execution_count": 38,
   "metadata": {},
   "outputs": [
    {
     "name": "stdout",
     "output_type": "stream",
     "text": [
      "3\n",
      "3\n",
      "4\n"
     ]
    }
   ],
   "source": [
    "for x, y in paths:\n",
    "\tprint(calculateSteps(x, y))"
   ]
  }
 ],
 "metadata": {
  "kernelspec": {
   "display_name": "Python 3",
   "language": "python",
   "name": "python3"
  },
  "language_info": {
   "codemirror_mode": {
    "name": "ipython",
    "version": 3
   },
   "file_extension": ".py",
   "mimetype": "text/x-python",
   "name": "python",
   "nbconvert_exporter": "python",
   "pygments_lexer": "ipython3",
   "version": "3.11.4"
  }
 },
 "nbformat": 4,
 "nbformat_minor": 2
}
