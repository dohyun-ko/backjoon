{
 "cells": [
  {
   "cell_type": "code",
   "execution_count": 2,
   "metadata": {},
   "outputs": [],
   "source": [
    "N, M = map(int, input().split())\n",
    "the_map = []\n",
    "for i in range(N):\n",
    "  the_map.append(list(map(int, list(input()))))"
   ]
  },
  {
   "cell_type": "code",
   "execution_count": 13,
   "metadata": {},
   "outputs": [],
   "source": [
    "from collections import deque\n",
    "\n",
    "q = deque([((0, 0), 1, 0)])\n",
    "\n",
    "min_cost = float(\"inf\")\n",
    "\n",
    "distances_broke = [[float('inf') for i in range(M)] for j in range(N)]\n",
    "distances_unbroke = [[float('inf') for i in range(M)] for j in range(N)]\n",
    "\n",
    "while q:\n",
    "  pos, cost, is_broke = q.popleft()\n",
    "\n",
    "  n, m = pos\n",
    "  if pos == (N-1, M-1):\n",
    "    min_cost = min(min_cost, cost)\n",
    "    continue\n",
    "\n",
    "  if cost >= min_cost:\n",
    "    continue\n",
    "\n",
    "  if is_broke == 1:\n",
    "    if distances_broke[n][m] <= cost:\n",
    "      continue\n",
    "    else:\n",
    "      distances_broke[n][m] = cost\n",
    "  else:\n",
    "    if distances_unbroke[n][m] <= cost:\n",
    "      continue\n",
    "    else:\n",
    "      distances_unbroke[n][m] = cost\n",
    "\n",
    "  adjs = []\n",
    "\n",
    "  if n < N - 1:\n",
    "    adjs.append((n+1, m))\n",
    "  if m < M - 1:\n",
    "    adjs.append((n, m+1))\n",
    "  if n > 0:\n",
    "    adjs.append((n-1,m))\n",
    "  if m > 0:\n",
    "    adjs.append((n, m-1))\n",
    "  \n",
    "  for adj in adjs:\n",
    "    if the_map[adj[0]][adj[1]] == 0:\n",
    "      q.append((adj, cost + 1, is_broke))\n",
    "    elif is_broke == 0:\n",
    "      q.append((adj, cost + 1, 1))"
   ]
  },
  {
   "cell_type": "code",
   "execution_count": null,
   "metadata": {},
   "outputs": [],
   "source": [
    "print(min_cost if min_cost != float('inf') else -1)"
   ]
  }
 ],
 "metadata": {
  "kernelspec": {
   "display_name": "Python 3",
   "language": "python",
   "name": "python3"
  },
  "language_info": {
   "codemirror_mode": {
    "name": "ipython",
    "version": 3
   },
   "file_extension": ".py",
   "mimetype": "text/x-python",
   "name": "python",
   "nbconvert_exporter": "python",
   "pygments_lexer": "ipython3",
   "version": "3.9.6"
  }
 },
 "nbformat": 4,
 "nbformat_minor": 2
}
