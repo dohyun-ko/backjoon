{
 "cells": [
  {
   "cell_type": "code",
   "execution_count": 1,
   "metadata": {},
   "outputs": [],
   "source": [
    "N = int(input())\n",
    "numbers = []\n",
    "for i in range(N):\n",
    "  numbers.append(list(map(int, input().split())))"
   ]
  },
  {
   "cell_type": "code",
   "execution_count": 10,
   "metadata": {},
   "outputs": [],
   "source": [
    "costs = [None, [0,0,0]]\n",
    "costs[0] = numbers[0].copy()\n",
    "\n",
    "for i in range(1, N):\n",
    "  index = (i + 1) % 2\n",
    "  new_index = (i) % 2\n",
    "\n",
    "  costs[new_index][0] = max(costs[index][0], costs[index][1]) + numbers[i][0]\n",
    "  costs[new_index][1] = max(costs[index]) + numbers[i][1]\n",
    "  costs[new_index][2] = max(costs[index][1], costs[index][2]) + numbers[i][2]\n"
   ]
  },
  {
   "cell_type": "code",
   "execution_count": 11,
   "metadata": {},
   "outputs": [
    {
     "name": "stdout",
     "output_type": "stream",
     "text": [
      "18 "
     ]
    }
   ],
   "source": [
    "print(max(costs[(N-1) % 2]), end=\" \")"
   ]
  },
  {
   "cell_type": "code",
   "execution_count": 12,
   "metadata": {},
   "outputs": [],
   "source": [
    "min_costs = [None, [0,0,0]]\n",
    "min_costs[0] = numbers[0].copy()\n",
    "\n",
    "for i in range(1, N):\n",
    "  index = (i + 1) % 2\n",
    "  new_index = i % 2\n",
    "\n",
    "  min_costs[new_index][0] = min(min_costs[index][0], min_costs[index][1]) + numbers[i][0]\n",
    "  min_costs[new_index][1] = min(min_costs[index]) + numbers[i][1]\n",
    "  min_costs[new_index][2] = min(min_costs[index][1], min_costs[index][2]) + numbers[i][2]"
   ]
  },
  {
   "cell_type": "code",
   "execution_count": 13,
   "metadata": {},
   "outputs": [
    {
     "name": "stdout",
     "output_type": "stream",
     "text": [
      "6\n"
     ]
    }
   ],
   "source": [
    "print(min(min_costs[(N-1) % 2]))"
   ]
  },
  {
   "cell_type": "code",
   "execution_count": null,
   "metadata": {},
   "outputs": [],
   "source": []
  }
 ],
 "metadata": {
  "kernelspec": {
   "display_name": "Python 3",
   "language": "python",
   "name": "python3"
  },
  "language_info": {
   "codemirror_mode": {
    "name": "ipython",
    "version": 3
   },
   "file_extension": ".py",
   "mimetype": "text/x-python",
   "name": "python",
   "nbconvert_exporter": "python",
   "pygments_lexer": "ipython3",
   "version": "3.9.6"
  }
 },
 "nbformat": 4,
 "nbformat_minor": 2
}
