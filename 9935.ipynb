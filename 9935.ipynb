{
 "cells": [
  {
   "cell_type": "code",
   "execution_count": 20,
   "metadata": {},
   "outputs": [],
   "source": [
    "target = list(input())\n",
    "bomb = input()\n",
    "len_bomb = len(bomb)"
   ]
  },
  {
   "cell_type": "code",
   "execution_count": null,
   "metadata": {},
   "outputs": [],
   "source": [
    "index = len(target) - 1\n",
    "\n",
    "saves = []\n",
    "bomb_index = 0\n",
    "\n",
    "temp = []\n",
    "\n",
    "done = []\n",
    "\n",
    "while index > 0:\n",
    "  popped = target.pop()\n",
    "  if popped == bomb[len_bomb - bomb_index - 1]:\n",
    "    bomb_index += 1\n",
    "    while target[-1] == bomb[len_bomb - bomb_index - 1]:\n",
    "      popped = target.pop()\n",
    "      bomb_index += 1\n",
    "    "
   ]
  },
  {
   "cell_type": "code",
   "execution_count": 23,
   "metadata": {},
   "outputs": [
    {
     "name": "stdout",
     "output_type": "stream",
     "text": [
      "FRULA\n"
     ]
    }
   ],
   "source": [
    "print(target if target else \"FRULA\")"
   ]
  }
 ],
 "metadata": {
  "kernelspec": {
   "display_name": "base",
   "language": "python",
   "name": "python3"
  },
  "language_info": {
   "codemirror_mode": {
    "name": "ipython",
    "version": 3
   },
   "file_extension": ".py",
   "mimetype": "text/x-python",
   "name": "python",
   "nbconvert_exporter": "python",
   "pygments_lexer": "ipython3",
   "version": "3.11.4"
  }
 },
 "nbformat": 4,
 "nbformat_minor": 2
}
