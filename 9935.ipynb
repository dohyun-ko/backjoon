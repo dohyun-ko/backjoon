{
 "cells": [
  {
   "cell_type": "code",
   "execution_count": 31,
   "metadata": {},
   "outputs": [],
   "source": [
    "target = list(input())\n",
    "bomb = input()\n",
    "len_bomb = len(bomb)"
   ]
  },
  {
   "cell_type": "code",
   "execution_count": 32,
   "metadata": {},
   "outputs": [],
   "source": [
    "temp = []\n",
    "done = []\n",
    "\n",
    "bomb_index = 0\n",
    "\n",
    "while target:\n",
    "  popped = target.pop()\n",
    "\n",
    "  if popped == bomb[len_bomb - bomb_index - 1]:\n",
    "    bomb_index += 1\n",
    "    temp.append((popped, bomb_index))\n",
    "\n",
    "    if bomb_index == len_bomb:\n",
    "      for i in range(len_bomb):\n",
    "        temp.pop()\n",
    "      bomb_index = temp[-1][1] if temp else 0\n",
    "  else:\n",
    "    bomb_index = 0\n",
    "    if popped == bomb[len_bomb - bomb_index - 1]:\n",
    "      bomb_index += 1\n",
    "      temp.append((popped, bomb_index))\n",
    "    else:\n",
    "      temp = temp[::-1]\n",
    "      while temp:\n",
    "        done.append(temp.pop()[0])\n",
    "      temp = []\n",
    "      done.append(popped)\n",
    "\n",
    "temp = temp[::-1]\n",
    "while temp:\n",
    "  done.append(temp.pop()[0])\n",
    "temp = []"
   ]
  },
  {
   "cell_type": "code",
   "execution_count": 33,
   "metadata": {},
   "outputs": [
    {
     "name": "stdout",
     "output_type": "stream",
     "text": [
      "aaabbb\n"
     ]
    }
   ],
   "source": [
    "print(\"\".join(done[::-1]) if done else \"FRULA\")"
   ]
  },
  {
   "cell_type": "code",
   "execution_count": null,
   "metadata": {},
   "outputs": [],
   "source": []
  }
 ],
 "metadata": {
  "kernelspec": {
   "display_name": "base",
   "language": "python",
   "name": "python3"
  },
  "language_info": {
   "codemirror_mode": {
    "name": "ipython",
    "version": 3
   },
   "file_extension": ".py",
   "mimetype": "text/x-python",
   "name": "python",
   "nbconvert_exporter": "python",
   "pygments_lexer": "ipython3",
   "version": "3.11.4"
  }
 },
 "nbformat": 4,
 "nbformat_minor": 2
}
