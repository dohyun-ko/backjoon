{
 "cells": [
  {
   "cell_type": "code",
   "execution_count": 58,
   "metadata": {},
   "outputs": [
    {
     "ename": "ValueError",
     "evalue": "invalid literal for int() with base 10: ''",
     "output_type": "error",
     "traceback": [
      "\u001b[0;31m---------------------------------------------------------------------------\u001b[0m",
      "\u001b[0;31mValueError\u001b[0m                                Traceback (most recent call last)",
      "Cell \u001b[0;32mIn[58], line 1\u001b[0m\n\u001b[0;32m----> 1\u001b[0m N \u001b[38;5;241m=\u001b[39m \u001b[38;5;28mint\u001b[39m(\u001b[38;5;28minput\u001b[39m())\n\u001b[1;32m      2\u001b[0m sea \u001b[38;5;241m=\u001b[39m []\n\u001b[1;32m      3\u001b[0m \u001b[38;5;28;01mfor\u001b[39;00m i \u001b[38;5;129;01min\u001b[39;00m \u001b[38;5;28mrange\u001b[39m(N):\n",
      "\u001b[0;31mValueError\u001b[0m: invalid literal for int() with base 10: ''"
     ]
    }
   ],
   "source": [
    "N = int(input())\n",
    "sea = []\n",
    "for i in range(N):\n",
    "  sea.append(list(map(int, input().split())))"
   ]
  },
  {
   "cell_type": "code",
   "execution_count": 86,
   "metadata": {},
   "outputs": [],
   "source": [
    "N = 6\n",
    "sea = []\n",
    "sea.append(list(map(int, \"6 0 6 0 6 1\".split())))\n",
    "sea.append(list(map(int, \"0 0 0 0 0 2\".split())))\n",
    "sea.append(list(map(int, \"2 3 4 5 6 6\".split())))\n",
    "sea.append(list(map(int, \"0 0 0 0 0 2\".split())))\n",
    "sea.append(list(map(int, \"0 2 0 0 0 0\".split())))\n",
    "sea.append(list(map(int, \"3 9 3 0 0 1\".split())))"
   ]
  },
  {
   "cell_type": "code",
   "execution_count": 104,
   "metadata": {},
   "outputs": [],
   "source": [
    "N = 6\n",
    "sea = []\n",
    "sea.append(list(map(int, \"1 1 1 1 1 1\".split())))\n",
    "sea.append(list(map(int, \"2 2 6 2 2 3\".split())))\n",
    "sea.append(list(map(int, \"2 2 5 2 2 3\".split())))\n",
    "sea.append(list(map(int, \"2 2 2 4 6 3\".split())))\n",
    "sea.append(list(map(int, \"0 0 0 0 0 6\".split())))\n",
    "sea.append(list(map(int, \"0 0 0 0 0 9\".split())))"
   ]
  },
  {
   "cell_type": "code",
   "execution_count": 105,
   "metadata": {},
   "outputs": [],
   "source": [
    "shark = (2, None)\n",
    "shark_tummy = 0\n",
    "time = 0\n",
    "fishes = []\n",
    "for i in range(N):\n",
    "  for j in range(N):\n",
    "    if sea[i][j] == 9:\n",
    "      shark = (shark[0], (i, j))\n",
    "      sea[i][j] = 0\n",
    "    elif sea[i][j] > 0:\n",
    "      fishes.append((sea[i][j], (i, j)))"
   ]
  },
  {
   "cell_type": "code",
   "execution_count": 106,
   "metadata": {},
   "outputs": [],
   "source": [
    "from collections import deque\n",
    "\n",
    "while True:\n",
    "  q = deque([])\n",
    "  q.append((shark[1], 0))\n",
    "\n",
    "  visited = []\n",
    "  feeds = []\n",
    "\n",
    "  while q:\n",
    "    now, time_to_here = q.popleft()\n",
    "\n",
    "    if now in visited:\n",
    "      continue\n",
    "\n",
    "    visited.append(now)\n",
    "\n",
    "    if sea[now[0]][now[1]] > 0 and sea[now[0]][now[1]] < shark[0]:\n",
    "      cost = time_to_here\n",
    "      feeds.append((cost, now))\n",
    "\n",
    "\n",
    "    adjs = []\n",
    "    if now[0] > 0:\n",
    "      adjs.append((now[0] - 1, now[1]))\n",
    "    if now[1] > 0:\n",
    "      adjs.append((now[0], now[1] - 1))\n",
    "    if now[0] < N - 1:\n",
    "      adjs.append((now[0] + 1, now[1]))\n",
    "    if now[1] < N - 1:\n",
    "      adjs.append((now[0], now[1] + 1))\n",
    "\n",
    "    for adj in adjs:\n",
    "      if not adj in visited and sea[adj[0]][adj[1]] <= shark[0]:\n",
    "        q.append((adj, time_to_here + 1))\n",
    "\n",
    "  if feeds:\n",
    "    target = min(feeds, key=lambda x: (x[0], x[1][0], x[1][1]))\n",
    "    shark_tummy += 1\n",
    "    if shark_tummy >= shark[0]:\n",
    "      shark_tummy = 0\n",
    "      shark = (shark[0] + 1, shark[1])\n",
    "    sea[target[1][0]][target[1][1]] = 0\n",
    "    shark = (shark[0], target[1])\n",
    "    time += target[0]\n",
    "  else:\n",
    "    break"
   ]
  },
  {
   "cell_type": "code",
   "execution_count": 107,
   "metadata": {},
   "outputs": [
    {
     "name": "stdout",
     "output_type": "stream",
     "text": [
      "39\n"
     ]
    }
   ],
   "source": [
    "print(time)"
   ]
  },
  {
   "cell_type": "code",
   "execution_count": null,
   "metadata": {},
   "outputs": [],
   "source": []
  }
 ],
 "metadata": {
  "kernelspec": {
   "display_name": "base",
   "language": "python",
   "name": "python3"
  },
  "language_info": {
   "codemirror_mode": {
    "name": "ipython",
    "version": 3
   },
   "file_extension": ".py",
   "mimetype": "text/x-python",
   "name": "python",
   "nbconvert_exporter": "python",
   "pygments_lexer": "ipython3",
   "version": "3.11.4"
  }
 },
 "nbformat": 4,
 "nbformat_minor": 2
}
