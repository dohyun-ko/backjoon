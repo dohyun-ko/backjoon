{
 "cells": [
  {
   "cell_type": "code",
   "execution_count": 41,
   "metadata": {},
   "outputs": [],
   "source": [
    "n = int(input())\n",
    "nums = list(map(int, input().split()))"
   ]
  },
  {
   "cell_type": "code",
   "execution_count": 42,
   "metadata": {},
   "outputs": [],
   "source": [
    "nums.sort()\n",
    "\n",
    "gaps = []\n",
    "\n",
    "for i in range(0, len(nums) - 1):\n",
    "  gaps.append(nums[i+1] - nums[i])"
   ]
  },
  {
   "cell_type": "code",
   "execution_count": 43,
   "metadata": {},
   "outputs": [],
   "source": [
    "def euclidean(a, b):\n",
    "  while b != 0:    \n",
    "    [a, b] = [b, a%b]\n",
    "  return a"
   ]
  },
  {
   "cell_type": "code",
   "execution_count": null,
   "metadata": {},
   "outputs": [],
   "source": [
    "divisor = euclidean(gaps[0], gaps[-1])\n",
    "\n",
    "for gap in gaps:\n",
    "  divisor = euclidean(divisor, gap)\n",
    "\n",
    "print(divisor)"
   ]
  },
  {
   "cell_type": "code",
   "execution_count": 45,
   "metadata": {},
   "outputs": [
    {
     "ename": "TypeError",
     "evalue": "euclidean() missing 1 required positional argument: 'b'",
     "output_type": "error",
     "traceback": [
      "\u001b[0;31m---------------------------------------------------------------------------\u001b[0m",
      "\u001b[0;31mTypeError\u001b[0m                                 Traceback (most recent call last)",
      "Cell \u001b[0;32mIn[45], line 9\u001b[0m\n\u001b[1;32m      5\u001b[0m biggest_remainder \u001b[38;5;241m=\u001b[39m \u001b[38;5;28mabs\u001b[39m(\u001b[38;5;28msorted\u001b[39m(nums, key\u001b[38;5;241m=\u001b[39m\u001b[38;5;28;01mlambda\u001b[39;00m x: \u001b[38;5;28mabs\u001b[39m(x))[\u001b[38;5;241m-\u001b[39m\u001b[38;5;241m1\u001b[39m])\n\u001b[1;32m      7\u001b[0m \u001b[38;5;28;01mwhile\u001b[39;00m remainder \u001b[38;5;241m<\u001b[39m biggest_remainder:\n\u001b[0;32m----> 9\u001b[0m   divisor \u001b[38;5;241m=\u001b[39m \u001b[38;5;28mabs\u001b[39m(\u001b[43meuclidean\u001b[49m\u001b[43m(\u001b[49m\u001b[38;5;28;43mlist\u001b[39;49m\u001b[43m(\u001b[49m\u001b[38;5;28;43mmap\u001b[39;49m\u001b[43m(\u001b[49m\u001b[38;5;28;43;01mlambda\u001b[39;49;00m\u001b[43m \u001b[49m\u001b[43mx\u001b[49m\u001b[43m:\u001b[49m\u001b[43m \u001b[49m\u001b[43mx\u001b[49m\u001b[43m \u001b[49m\u001b[38;5;241;43m-\u001b[39;49m\u001b[43m \u001b[49m\u001b[43mremainder\u001b[49m\u001b[43m,\u001b[49m\u001b[43m \u001b[49m\u001b[43mnums\u001b[49m\u001b[43m)\u001b[49m\u001b[43m)\u001b[49m\u001b[43m)\u001b[49m)\n\u001b[1;32m     11\u001b[0m   \u001b[38;5;28;01mif\u001b[39;00m divisor \u001b[38;5;241m>\u001b[39m biggest:\n\u001b[1;32m     12\u001b[0m     biggest \u001b[38;5;241m=\u001b[39m divisor\n",
      "\u001b[0;31mTypeError\u001b[0m: euclidean() missing 1 required positional argument: 'b'"
     ]
    }
   ],
   "source": [
    "remainder = 0\n",
    "\n",
    "biggest = float(\"-inf\")\n",
    "\n",
    "biggest_remainder = abs(sorted(nums, key=lambda x: abs(x))[-1])\n",
    "\n",
    "while remainder < biggest_remainder:\n",
    "\n",
    "  divisor = abs(euclidean(list(map(lambda x: x - remainder, nums))))\n",
    "\n",
    "  if divisor > biggest:\n",
    "    biggest = divisor\n",
    "\n",
    "  remainder += 1"
   ]
  },
  {
   "cell_type": "code",
   "execution_count": null,
   "metadata": {},
   "outputs": [
    {
     "name": "stdout",
     "output_type": "stream",
     "text": [
      "2\n"
     ]
    }
   ],
   "source": [
    "print(biggest)"
   ]
  }
 ],
 "metadata": {
  "kernelspec": {
   "display_name": "base",
   "language": "python",
   "name": "python3"
  },
  "language_info": {
   "codemirror_mode": {
    "name": "ipython",
    "version": 3
   },
   "file_extension": ".py",
   "mimetype": "text/x-python",
   "name": "python",
   "nbconvert_exporter": "python",
   "pygments_lexer": "ipython3",
   "version": "3.11.8"
  }
 },
 "nbformat": 4,
 "nbformat_minor": 2
}
