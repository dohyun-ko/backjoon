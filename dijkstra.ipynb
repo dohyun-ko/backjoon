{
 "cells": [
  {
   "cell_type": "code",
   "execution_count": 1,
   "metadata": {},
   "outputs": [],
   "source": [
    "N, search_range, M= map(int, input().split())\n",
    "item_nums = [0] + list(map(int, input().split()))"
   ]
  },
  {
   "cell_type": "code",
   "execution_count": 10,
   "metadata": {},
   "outputs": [],
   "source": [
    "distances = [[] for j in range(N + 1)]\n",
    "for _ in range(M):\n",
    "  a, b, c = map(int, input().split())\n",
    "  distances[a].append((c, b))\n",
    "  distances[b].append((c, a))"
   ]
  },
  {
   "cell_type": "code",
   "execution_count": 11,
   "metadata": {},
   "outputs": [],
   "source": [
    "import heapq\n",
    "\n",
    "\n",
    "def dijkstra(start, distances):\n",
    "  from_start = [float('inf')] * (N + 1)\n",
    "  from_start[start] = 0\n",
    "  q = []\n",
    "  heapq.heappush(q, (0, start))\n",
    "\n",
    "  while q:\n",
    "    dist, now = heapq.heappop(q)\n",
    "\n",
    "    if from_start[now] < dist:\n",
    "      continue\n",
    "\n",
    "    for c, e in distances[now]:\n",
    "      cost = dist + c\n",
    "\n",
    "      if cost < from_start[e]:\n",
    "        from_start[e] = cost\n",
    "        heapq.heappush(q, (cost, e))\n",
    "  \n",
    "  return from_start"
   ]
  },
  {
   "cell_type": "code",
   "execution_count": 12,
   "metadata": {},
   "outputs": [],
   "source": [
    "max_items = 0\n",
    "\n",
    "for i in range(1, N + 1):\n",
    "  item_sum = 0\n",
    "  i_distances = dijkstra(i, distances)\n",
    "  for j in range(1, N + 1):\n",
    "    if i_distances[j] <= search_range:\n",
    "      item_sum += item_nums[j]\n",
    "\n",
    "  max_items = max(max_items, item_sum)"
   ]
  },
  {
   "cell_type": "code",
   "execution_count": 13,
   "metadata": {},
   "outputs": [
    {
     "name": "stdout",
     "output_type": "stream",
     "text": [
      "23\n"
     ]
    }
   ],
   "source": [
    "print(max_items)"
   ]
  },
  {
   "cell_type": "code",
   "execution_count": null,
   "metadata": {},
   "outputs": [],
   "source": []
  }
 ],
 "metadata": {
  "kernelspec": {
   "display_name": "base",
   "language": "python",
   "name": "python3"
  },
  "language_info": {
   "codemirror_mode": {
    "name": "ipython",
    "version": 3
   },
   "file_extension": ".py",
   "mimetype": "text/x-python",
   "name": "python",
   "nbconvert_exporter": "python",
   "pygments_lexer": "ipython3",
   "version": "3.11.4"
  }
 },
 "nbformat": 4,
 "nbformat_minor": 2
}
