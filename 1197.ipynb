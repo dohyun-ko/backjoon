{
 "cells": [
  {
   "cell_type": "code",
   "execution_count": 75,
   "metadata": {},
   "outputs": [],
   "source": [
    "V, E = map(int, input().split())\n",
    "\n",
    "graph = []\n",
    "parent = [i for i in range(V+1)]\n",
    "\n",
    "for i in range(E):\n",
    "  A, B, C = map(int, input().split())\n",
    "  graph.append((C, A, B))"
   ]
  },
  {
   "cell_type": "code",
   "execution_count": 76,
   "metadata": {},
   "outputs": [],
   "source": [
    "graph = sorted(graph)\n",
    "\n",
    "total_cost = 0"
   ]
  },
  {
   "cell_type": "code",
   "execution_count": 77,
   "metadata": {},
   "outputs": [],
   "source": [
    "def get_parent(x):\n",
    "  if parent[x] == x:\n",
    "    return x\n",
    "  return get_parent(parent[x])"
   ]
  },
  {
   "cell_type": "code",
   "execution_count": 78,
   "metadata": {},
   "outputs": [],
   "source": [
    "for g in graph:\n",
    "  C, A, B = g\n",
    "\n",
    "  A = get_parent(A)\n",
    "  B = get_parent(B)\n",
    "\n",
    "  if A == B:\n",
    "    continue\n",
    "\n",
    "  total_cost += C\n",
    "\n",
    "  if A < B:\n",
    "    parent[B] = A\n",
    "  else: \n",
    "    parent[A] = B\n",
    "  "
   ]
  },
  {
   "cell_type": "code",
   "execution_count": 79,
   "metadata": {},
   "outputs": [
    {
     "name": "stdout",
     "output_type": "stream",
     "text": [
      "-3\n"
     ]
    }
   ],
   "source": [
    "print(total_cost)"
   ]
  },
  {
   "cell_type": "code",
   "execution_count": null,
   "metadata": {},
   "outputs": [],
   "source": []
  },
  {
   "cell_type": "code",
   "execution_count": null,
   "metadata": {},
   "outputs": [],
   "source": []
  }
 ],
 "metadata": {
  "kernelspec": {
   "display_name": "Python 3",
   "language": "python",
   "name": "python3"
  },
  "language_info": {
   "codemirror_mode": {
    "name": "ipython",
    "version": 3
   },
   "file_extension": ".py",
   "mimetype": "text/x-python",
   "name": "python",
   "nbconvert_exporter": "python",
   "pygments_lexer": "ipython3",
   "version": "3.11.6"
  }
 },
 "nbformat": 4,
 "nbformat_minor": 2
}
