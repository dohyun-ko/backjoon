{
 "cells": [
  {
   "cell_type": "code",
   "execution_count": 102,
   "metadata": {},
   "outputs": [],
   "source": [
    "formula = list(input().strip())"
   ]
  },
  {
   "cell_type": "code",
   "execution_count": 103,
   "metadata": {},
   "outputs": [],
   "source": [
    "def to_post(formula):\n",
    "  lf = len(formula)\n",
    "\n",
    "  i = 0\n",
    "\n",
    "  while i < lf:\n",
    "    if formula[i] == \"*\":\n",
    "      result = formula[i - 1] + formula[i + 1] + formula[i]\n",
    "      formula[i - 1] = result\n",
    "      \n",
    "      del formula[i]\n",
    "      del formula[i]\n",
    "      i -= 1\n",
    "\n",
    "    elif formula[i] == \"/\":\n",
    "      result = formula[i - 1] + formula[i + 1] + formula[i]\n",
    "      formula[i - 1] = result\n",
    "    \n",
    "      del formula[i]\n",
    "      del formula[i]\n",
    "      i -= 1\n",
    "\n",
    "    lf = len(formula)\n",
    "    i += 1\n",
    "\n",
    "  i = 0\n",
    "\n",
    "  while i < lf:\n",
    "    if formula[i] == \"+\":\n",
    "      result = formula[i - 1] + formula[i + 1] + formula[i]\n",
    "      formula[i - 1] = result\n",
    "      \n",
    "      del formula[i]\n",
    "      del formula[i]\n",
    "      i -= 1\n",
    "\n",
    "    elif formula[i] == \"-\":\n",
    "      result = formula[i - 1] + formula[i + 1] + formula[i]\n",
    "      formula[i - 1] = result\n",
    "    \n",
    "      del formula[i]\n",
    "      del formula[i]\n",
    "      i -= 1\n",
    "\n",
    "    lf = len(formula)\n",
    "    i += 1\n",
    "  \n",
    "  return formula"
   ]
  },
  {
   "cell_type": "code",
   "execution_count": 104,
   "metadata": {},
   "outputs": [],
   "source": [
    "right_p = None\n",
    "left_p = None\n",
    "\n",
    "lf = len(formula)\n",
    "\n",
    "i = 0\n",
    "while i < lf:\n",
    "  if formula[lf-i-1] == \")\":\n",
    "    right_p = lf-i-1\n",
    "  if formula[lf-i-1] == \"(\":\n",
    "    left_p = lf-i-1\n",
    "    formula[left_p] = to_post(formula[left_p + 1:right_p])[0]\n",
    "    formula = formula[:left_p+1] + formula[right_p+1:]\n",
    "  \n",
    "    lf = len(formula)\n",
    "    i = 0\n",
    "  \n",
    "  i += 1"
   ]
  },
  {
   "cell_type": "code",
   "execution_count": 105,
   "metadata": {},
   "outputs": [
    {
     "name": "stdout",
     "output_type": "stream",
     "text": [
      "ABC*D**E*\n"
     ]
    }
   ],
   "source": [
    "print(to_post(formula)[0])"
   ]
  },
  {
   "cell_type": "code",
   "execution_count": null,
   "metadata": {},
   "outputs": [],
   "source": []
  }
 ],
 "metadata": {
  "kernelspec": {
   "display_name": "base",
   "language": "python",
   "name": "python3"
  },
  "language_info": {
   "codemirror_mode": {
    "name": "ipython",
    "version": 3
   },
   "file_extension": ".py",
   "mimetype": "text/x-python",
   "name": "python",
   "nbconvert_exporter": "python",
   "pygments_lexer": "ipython3",
   "version": "3.11.4"
  }
 },
 "nbformat": 4,
 "nbformat_minor": 2
}
