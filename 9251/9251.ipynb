{
 "cells": [
  {
   "cell_type": "code",
   "execution_count": 2,
   "metadata": {},
   "outputs": [],
   "source": [
    "import sys\n",
    "sys.setrecursionlimit(10**6)\n",
    "\n",
    "a = list(input())\n",
    "b = list(input())\n",
    "\n",
    "memos = {}"
   ]
  },
  {
   "cell_type": "code",
   "execution_count": 3,
   "metadata": {},
   "outputs": [],
   "source": [
    "def LCS(a, b, m, n):\n",
    "\tkey = (m, n)\n",
    "\n",
    "\tif key in memos:\n",
    "\t\treturn memos[key]\n",
    "\n",
    "\tif m < 0 or n < 0:\n",
    "\t\tmemos[key] = 0\n",
    "\t\treturn 0\n",
    "\n",
    "\tif a[m] == b[n]:\n",
    "\t\tresult = 1 + LCS(a, b, m-1, n-1)\n",
    "\t\tmemos[key] = result\n",
    "\t\treturn result\n",
    "\telse:\n",
    "\t\tresult = max(LCS(a, b, m, n-1), LCS(a, b, m-1, n))\n",
    "\t\tmemos[key] = result\n",
    "\t\treturn result\n",
    "\t"
   ]
  },
  {
   "cell_type": "code",
   "execution_count": 4,
   "metadata": {},
   "outputs": [
    {
     "name": "stdout",
     "output_type": "stream",
     "text": [
      "4\n"
     ]
    }
   ],
   "source": [
    "print(LCS(a, b, len(a) - 1, len(b) - 1))"
   ]
  },
  {
   "cell_type": "code",
   "execution_count": 5,
   "metadata": {},
   "outputs": [
    {
     "name": "stdout",
     "output_type": "stream",
     "text": [
      "(\"['A', 'C', 'A', 'Y', 'K', 'P']\", \"['C', 'A', 'P', 'C', 'A', 'K']\", 4, -1)\n",
      "(\"['A', 'C', 'A', 'Y', 'K', 'P']\", \"['C', 'A', 'P', 'C', 'A', 'K']\", 3, -1)\n",
      "(\"['A', 'C', 'A', 'Y', 'K', 'P']\", \"['C', 'A', 'P', 'C', 'A', 'K']\", 2, -1)\n",
      "(\"['A', 'C', 'A', 'Y', 'K', 'P']\", \"['C', 'A', 'P', 'C', 'A', 'K']\", 0, -1)\n",
      "(\"['A', 'C', 'A', 'Y', 'K', 'P']\", \"['C', 'A', 'P', 'C', 'A', 'K']\", 1, 0)\n",
      "(\"['A', 'C', 'A', 'Y', 'K', 'P']\", \"['C', 'A', 'P', 'C', 'A', 'K']\", 2, 0)\n",
      "(\"['A', 'C', 'A', 'Y', 'K', 'P']\", \"['C', 'A', 'P', 'C', 'A', 'K']\", 3, 0)\n",
      "(\"['A', 'C', 'A', 'Y', 'K', 'P']\", \"['C', 'A', 'P', 'C', 'A', 'K']\", 4, 0)\n",
      "(\"['A', 'C', 'A', 'Y', 'K', 'P']\", \"['C', 'A', 'P', 'C', 'A', 'K']\", 2, 1)\n",
      "(\"['A', 'C', 'A', 'Y', 'K', 'P']\", \"['C', 'A', 'P', 'C', 'A', 'K']\", 3, 1)\n",
      "(\"['A', 'C', 'A', 'Y', 'K', 'P']\", \"['C', 'A', 'P', 'C', 'A', 'K']\", 4, 1)\n",
      "(\"['A', 'C', 'A', 'Y', 'K', 'P']\", \"['C', 'A', 'P', 'C', 'A', 'K']\", 5, 2)\n",
      "(\"['A', 'C', 'A', 'Y', 'K', 'P']\", \"['C', 'A', 'P', 'C', 'A', 'K']\", -1, 0)\n",
      "(\"['A', 'C', 'A', 'Y', 'K', 'P']\", \"['C', 'A', 'P', 'C', 'A', 'K']\", 0, 1)\n",
      "(\"['A', 'C', 'A', 'Y', 'K', 'P']\", \"['C', 'A', 'P', 'C', 'A', 'K']\", 1, 1)\n",
      "(\"['A', 'C', 'A', 'Y', 'K', 'P']\", \"['C', 'A', 'P', 'C', 'A', 'K']\", -1, 2)\n",
      "(\"['A', 'C', 'A', 'Y', 'K', 'P']\", \"['C', 'A', 'P', 'C', 'A', 'K']\", 0, 2)\n",
      "(\"['A', 'C', 'A', 'Y', 'K', 'P']\", \"['C', 'A', 'P', 'C', 'A', 'K']\", 1, 2)\n",
      "(\"['A', 'C', 'A', 'Y', 'K', 'P']\", \"['C', 'A', 'P', 'C', 'A', 'K']\", 2, 2)\n",
      "(\"['A', 'C', 'A', 'Y', 'K', 'P']\", \"['C', 'A', 'P', 'C', 'A', 'K']\", 3, 2)\n",
      "(\"['A', 'C', 'A', 'Y', 'K', 'P']\", \"['C', 'A', 'P', 'C', 'A', 'K']\", 4, 2)\n",
      "(\"['A', 'C', 'A', 'Y', 'K', 'P']\", \"['C', 'A', 'P', 'C', 'A', 'K']\", 1, 3)\n",
      "(\"['A', 'C', 'A', 'Y', 'K', 'P']\", \"['C', 'A', 'P', 'C', 'A', 'K']\", 2, 3)\n",
      "(\"['A', 'C', 'A', 'Y', 'K', 'P']\", \"['C', 'A', 'P', 'C', 'A', 'K']\", 3, 3)\n",
      "(\"['A', 'C', 'A', 'Y', 'K', 'P']\", \"['C', 'A', 'P', 'C', 'A', 'K']\", 4, 3)\n",
      "(\"['A', 'C', 'A', 'Y', 'K', 'P']\", \"['C', 'A', 'P', 'C', 'A', 'K']\", 5, 3)\n",
      "(\"['A', 'C', 'A', 'Y', 'K', 'P']\", \"['C', 'A', 'P', 'C', 'A', 'K']\", 2, 4)\n",
      "(\"['A', 'C', 'A', 'Y', 'K', 'P']\", \"['C', 'A', 'P', 'C', 'A', 'K']\", 3, 4)\n",
      "(\"['A', 'C', 'A', 'Y', 'K', 'P']\", \"['C', 'A', 'P', 'C', 'A', 'K']\", 4, 4)\n",
      "(\"['A', 'C', 'A', 'Y', 'K', 'P']\", \"['C', 'A', 'P', 'C', 'A', 'K']\", 5, 4)\n",
      "(\"['A', 'C', 'A', 'Y', 'K', 'P']\", \"['C', 'A', 'P', 'C', 'A', 'K']\", 4, 5)\n",
      "(\"['A', 'C', 'A', 'Y', 'K', 'P']\", \"['C', 'A', 'P', 'C', 'A', 'K']\", 5, 5)\n"
     ]
    }
   ],
   "source": [
    "for m in memos:\n",
    "\tprint(m)"
   ]
  }
 ],
 "metadata": {
  "kernelspec": {
   "display_name": "Python 3",
   "language": "python",
   "name": "python3"
  },
  "language_info": {
   "codemirror_mode": {
    "name": "ipython",
    "version": 3
   },
   "file_extension": ".py",
   "mimetype": "text/x-python",
   "name": "python",
   "nbconvert_exporter": "python",
   "pygments_lexer": "ipython3",
   "version": "3.11.4"
  }
 },
 "nbformat": 4,
 "nbformat_minor": 2
}
