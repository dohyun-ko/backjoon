{
 "cells": [
  {
   "cell_type": "code",
   "execution_count": 4,
   "metadata": {},
   "outputs": [],
   "source": [
    "N, K = map(int, input().split())"
   ]
  },
  {
   "cell_type": "code",
   "execution_count": 5,
   "metadata": {},
   "outputs": [
    {
     "ename": "NameError",
     "evalue": "name 'adj' is not defined",
     "output_type": "error",
     "traceback": [
      "\u001b[0;31m---------------------------------------------------------------------------\u001b[0m",
      "\u001b[0;31mNameError\u001b[0m                                 Traceback (most recent call last)",
      "Cell \u001b[0;32mIn[5], line 29\u001b[0m\n\u001b[1;32m     26\u001b[0m adjs \u001b[38;5;241m=\u001b[39m []\n\u001b[1;32m     28\u001b[0m \u001b[38;5;28;01mif\u001b[39;00m position \u001b[38;5;241m<\u001b[39m K:\n\u001b[0;32m---> 29\u001b[0m   \u001b[38;5;28;01mif\u001b[39;00m \u001b[43madj\u001b[49m[\u001b[38;5;241m0\u001b[39m] \u001b[38;5;241m<\u001b[39m\u001b[38;5;241m=\u001b[39m \u001b[38;5;241m100000\u001b[39m \u001b[38;5;129;01mand\u001b[39;00m adj[\u001b[38;5;241m0\u001b[39m] \u001b[38;5;241m>\u001b[39m\u001b[38;5;241m=\u001b[39m \u001b[38;5;241m0\u001b[39m \u001b[38;5;129;01mand\u001b[39;00m visited[adj[\u001b[38;5;241m0\u001b[39m]] \u001b[38;5;241m>\u001b[39m adj[\u001b[38;5;241m0\u001b[39m]:\n\u001b[1;32m     30\u001b[0m     q\u001b[38;5;241m.\u001b[39mappendleft((position \u001b[38;5;241m*\u001b[39m \u001b[38;5;241m2\u001b[39m, time))\n\u001b[1;32m     32\u001b[0m adjs\u001b[38;5;241m.\u001b[39mappend((position \u001b[38;5;241m-\u001b[39m \u001b[38;5;241m1\u001b[39m, time \u001b[38;5;241m+\u001b[39m \u001b[38;5;241m1\u001b[39m))\n",
      "\u001b[0;31mNameError\u001b[0m: name 'adj' is not defined"
     ]
    }
   ],
   "source": [
    "from collections import deque\n",
    "\n",
    "q = deque([])\n",
    "\n",
    "min_time = float('inf')\n",
    "\n",
    "visited = [float('inf') for i in range(100001)]\n",
    "\n",
    "if N > K:\n",
    "  min_time = N - K\n",
    "else:\n",
    "  q.append((N, 0))\n",
    "\n",
    "while q:\n",
    "  position, time = q.popleft()\n",
    "\n",
    "  visited[position] = time\n",
    "\n",
    "  if time >= min_time:\n",
    "    continue\n",
    "\n",
    "  if position == K:\n",
    "    min_time = time\n",
    "    continue\n",
    "  \n",
    "  adjs = []\n",
    "\n",
    "  if position < K:\n",
    "    if position * 2 <= 100000 and position * 2 >= 0 and visited[position * 2] > time:\n",
    "      q.appendleft((position * 2, time))\n",
    "\n",
    "  adjs.append((position - 1, time + 1))\n",
    "  adjs.append((position + 1, time + 1))\n",
    "\n",
    "  for adj in adjs:\n",
    "    if adj[0] > 100000 or adj[0] < 0 or adj[0] > 2*K:\n",
    "      continue\n",
    "\n",
    "    if visited[adj[0]] < adj[1]:\n",
    "      continue\n",
    "\n",
    "    q.append(adj)\n"
   ]
  },
  {
   "cell_type": "code",
   "execution_count": null,
   "metadata": {},
   "outputs": [
    {
     "name": "stdout",
     "output_type": "stream",
     "text": [
      "2\n"
     ]
    }
   ],
   "source": [
    "print(min_time)"
   ]
  },
  {
   "cell_type": "code",
   "execution_count": null,
   "metadata": {},
   "outputs": [],
   "source": []
  }
 ],
 "metadata": {
  "kernelspec": {
   "display_name": "Python 3",
   "language": "python",
   "name": "python3"
  },
  "language_info": {
   "codemirror_mode": {
    "name": "ipython",
    "version": 3
   },
   "file_extension": ".py",
   "mimetype": "text/x-python",
   "name": "python",
   "nbconvert_exporter": "python",
   "pygments_lexer": "ipython3",
   "version": "3.9.6"
  }
 },
 "nbformat": 4,
 "nbformat_minor": 2
}
