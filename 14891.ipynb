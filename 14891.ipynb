{
 "cells": [
  {
   "cell_type": "code",
   "execution_count": 1,
   "metadata": {},
   "outputs": [],
   "source": [
    "gears = [[int(x) for x in input()] for y in range(4)]"
   ]
  },
  {
   "cell_type": "code",
   "execution_count": 2,
   "metadata": {},
   "outputs": [],
   "source": [
    "K = int(input())\n",
    "rotations = [[int(x) for x in input().split()] for y in range(K)]"
   ]
  },
  {
   "cell_type": "code",
   "execution_count": 3,
   "metadata": {},
   "outputs": [],
   "source": [
    "# gears[0][2] ~ gear[1][6]\n",
    "# gears[1][2] ~ gears[2][6]\n",
    "# gears[2][2] ~ gears[3][6]"
   ]
  },
  {
   "cell_type": "code",
   "execution_count": 4,
   "metadata": {},
   "outputs": [],
   "source": [
    "import copy\n",
    "\n",
    "# print(gears)\n",
    "\n",
    "copied_gears = copy.deepcopy(gears)\n",
    "\n",
    "def propagation (gear_num, direction, way):\n",
    "  # direction is 1 for clockwise and -1 for counter-clockwise\n",
    "  # way is 1 for left, -1 for right and 0 for both\n",
    "  # sender, receiver = [2, 6] if direction == 1 else [6, 2]\n",
    "  gear_index = gear_num - 1\n",
    "  counter_direction = -1 if direction == 1 else 1\n",
    "\n",
    "  is_propagated_left = False\n",
    "  is_propagated_right = False\n",
    "\n",
    "  if way == 1 or way == 0:\n",
    "    if gear_num != 4:\n",
    "      sender, receiver = 2, 6\n",
    "      is_propagated_left = copied_gears[gear_index][sender] != copied_gears[gear_index+1][receiver]\n",
    "\n",
    "  if way == -1 or way == 0:\n",
    "    if gear_num != 1:  \n",
    "      sender, receiver = 6, 2\n",
    "      is_propagated_right = copied_gears[gear_index][sender] != copied_gears[gear_index-1][receiver]\n",
    "    \n",
    "  # rotation\n",
    "  if direction == 1:\n",
    "    tooth = copied_gears[gear_index].pop()\n",
    "    copied_gears[gear_index].insert(0, tooth)\n",
    "  if direction == -1:\n",
    "    tooth = copied_gears[gear_index].pop(0)\n",
    "    copied_gears[gear_index].append(tooth)\n",
    "\n",
    "  # print(is_propagated_left, is_propagated_right)\n",
    "\n",
    "  is_propagated_left and propagation(gear_num+1, counter_direction, 1)\n",
    "  is_propagated_right and propagation(gear_num-1, counter_direction, -1)\n",
    "  \n",
    "    \n",
    "for rotation in rotations:\n",
    "  gear_num, direction = rotation\n",
    "  propagation(gear_num, direction, 0)\n",
    "\n",
    "  "
   ]
  },
  {
   "cell_type": "code",
   "execution_count": 5,
   "metadata": {},
   "outputs": [
    {
     "name": "stdout",
     "output_type": "stream",
     "text": [
      "15\n"
     ]
    }
   ],
   "source": [
    "score = 0\n",
    "for i in range(4):\n",
    "  if copied_gears[i][0] == 1:\n",
    "    score += 2 ** i\n",
    "\n",
    "print(score)"
   ]
  }
 ],
 "metadata": {
  "kernelspec": {
   "display_name": "base",
   "language": "python",
   "name": "python3"
  },
  "language_info": {
   "codemirror_mode": {
    "name": "ipython",
    "version": 3
   },
   "file_extension": ".py",
   "mimetype": "text/x-python",
   "name": "python",
   "nbconvert_exporter": "python",
   "pygments_lexer": "ipython3",
   "version": "3.11.8"
  }
 },
 "nbformat": 4,
 "nbformat_minor": 2
}
