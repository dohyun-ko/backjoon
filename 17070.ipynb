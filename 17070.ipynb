{
 "cells": [
  {
   "cell_type": "code",
   "execution_count": 18,
   "metadata": {},
   "outputs": [],
   "source": [
    "N = int(input())\n",
    "house = []\n",
    "for i in range(N):\n",
    "  house.append(list(map(int, input().split())))"
   ]
  },
  {
   "cell_type": "code",
   "execution_count": 15,
   "metadata": {},
   "outputs": [],
   "source": [
    "N = 5\n",
    "house = []\n",
    "house.append(list(map(int, \"0 0 1 0 0\".split())))\n",
    "house.append(list(map(int, \"0 0 0 0 0\".split())))\n",
    "house.append(list(map(int, \"0 0 0 0 0\".split())))\n",
    "house.append(list(map(int, \"0 0 0 0 0\".split())))\n",
    "house.append(list(map(int, \"0 0 0 0 0\".split())))"
   ]
  },
  {
   "cell_type": "code",
   "execution_count": 19,
   "metadata": {},
   "outputs": [
    {
     "name": "stdout",
     "output_type": "stream",
     "text": [
      "(0, 1) 0\n",
      "(0, 2) 0\n",
      "(1, 3) 2\n",
      "(2, 4) 2\n",
      "(3, 5) 2\n",
      "(4, 5) 1\n",
      "(5, 5) 1\n",
      "(3, 4) 1\n",
      "(4, 5) 2\n",
      "(5, 5) 1\n",
      "(4, 4) 1\n",
      "(5, 5) 2\n",
      "(5, 4) 1\n",
      "(2, 5) 0\n",
      "(2, 3) 1\n",
      "(3, 4) 2\n",
      "(4, 5) 2\n",
      "(5, 5) 1\n",
      "(4, 4) 1\n",
      "(5, 5) 2\n",
      "(5, 4) 1\n",
      "(3, 5) 0\n",
      "(3, 3) 1\n",
      "(4, 4) 2\n",
      "(5, 5) 2\n",
      "(5, 4) 1\n",
      "(4, 5) 0\n",
      "(4, 3) 1\n",
      "(5, 4) 2\n",
      "(5, 5) 0\n",
      "(5, 3) 1\n",
      "(1, 4) 0\n",
      "(2, 5) 2\n",
      "(3, 5) 1\n",
      "(4, 5) 1\n",
      "(5, 5) 1\n",
      "(1, 5) 0\n",
      "(0, 3) 0\n",
      "(1, 4) 2\n",
      "(2, 5) 2\n",
      "(3, 5) 1\n",
      "(4, 5) 1\n",
      "(5, 5) 1\n",
      "(2, 4) 1\n",
      "(3, 5) 2\n",
      "(4, 5) 1\n",
      "(5, 5) 1\n",
      "(3, 4) 1\n",
      "(4, 5) 2\n",
      "(5, 5) 1\n",
      "(4, 4) 1\n",
      "(5, 5) 2\n",
      "(5, 4) 1\n",
      "(1, 5) 0\n",
      "(0, 4) 0\n",
      "(1, 5) 2\n",
      "(2, 5) 1\n",
      "(3, 5) 1\n",
      "(4, 5) 1\n",
      "(5, 5) 1\n",
      "(0, 5) 0\n"
     ]
    }
   ],
   "source": [
    "stack = [((0, 1), 0)]\n",
    "num_of_way = 0\n",
    "\n",
    "# state: horizontal = 0, vertial = 1, diagonal = 2\n",
    "while stack:\n",
    "  now, state = stack.pop()\n",
    "  m, n = now\n",
    "\n",
    "  if m == N - 1 and n == N - 1:\n",
    "    num_of_way += 1\n",
    "    continue\n",
    "\n",
    "\n",
    "  if state == 0:\n",
    "    if n == N - 1:\n",
    "      continue\n",
    "    if house[m][n + 1] != 1:\n",
    "      stack.append(((m, n+1), 0))\n",
    "    if m != N - 1 and house[m][n + 1] != 1 and house[m + 1][n] != 1 and house[m + 1][n + 1] != 1:\n",
    "      stack.append(((m+1, n+1), 2))\n",
    "  if state == 1:\n",
    "    if m == N - 1:\n",
    "      continue\n",
    "    if house[m+1][n] != 1:\n",
    "      stack.append(((m+1, n), 1))\n",
    "    if n != N - 1 and house[m][n + 1] != 1 and house[m + 1][n] != 1 and house[m + 1][n + 1] != 1:\n",
    "      stack.append(((m+1, n+1), 2))\n",
    "  if state == 2:\n",
    "    if n != N - 1 and house[m][n + 1] != 1:\n",
    "      stack.append(((m, n+1), 0))\n",
    "    if m != N - 1 and house[m+1][n] != 1:\n",
    "      stack.append(((m+1, n), 1))\n",
    "    if m != N - 1 and n != N - 1 and house[m][n + 1] != 1 and house[m + 1][n] != 1 and house[m + 1][n + 1] != 1:\n",
    "      stack.append(((m+1, n+1), 2))\n",
    "  "
   ]
  },
  {
   "cell_type": "code",
   "execution_count": 20,
   "metadata": {},
   "outputs": [
    {
     "name": "stdout",
     "output_type": "stream",
     "text": [
      "13\n"
     ]
    }
   ],
   "source": [
    "print(num_of_way)"
   ]
  },
  {
   "cell_type": "code",
   "execution_count": null,
   "metadata": {},
   "outputs": [],
   "source": []
  }
 ],
 "metadata": {
  "kernelspec": {
   "display_name": "base",
   "language": "python",
   "name": "python3"
  },
  "language_info": {
   "codemirror_mode": {
    "name": "ipython",
    "version": 3
   },
   "file_extension": ".py",
   "mimetype": "text/x-python",
   "name": "python",
   "nbconvert_exporter": "python",
   "pygments_lexer": "ipython3",
   "version": "3.11.4"
  }
 },
 "nbformat": 4,
 "nbformat_minor": 2
}
