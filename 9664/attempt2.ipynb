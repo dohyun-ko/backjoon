{
 "cells": [
  {
   "cell_type": "code",
   "execution_count": 7,
   "metadata": {},
   "outputs": [],
   "source": [
    "import copy\n",
    "N = int(input())"
   ]
  },
  {
   "cell_type": "code",
   "execution_count": 8,
   "metadata": {},
   "outputs": [],
   "source": [
    "def placeQueen(row, col, queens):\n",
    "\n",
    "    for queen in queens:\n",
    "        q_row, q_col = queen\n",
    "        if q_col == col:\n",
    "            return 0\n",
    "        if abs(row - q_row) == abs(col - q_col):\n",
    "            return 0\n",
    "    \n",
    "    if len(queens) == N - 1:\n",
    "        return 1\n",
    "    \n",
    "\n",
    "    queens.append((row, col))\n",
    "    \n",
    "    possibilities = []\n",
    "\n",
    "    for i in range(N):\n",
    "        possibilities.append(placeQueen(row + 1, i, copy.deepcopy(queens)))\n",
    "\n",
    "    return sum(possibilities)"
   ]
  },
  {
   "cell_type": "code",
   "execution_count": 9,
   "metadata": {},
   "outputs": [
    {
     "name": "stdout",
     "output_type": "stream",
     "text": [
      "724\n"
     ]
    }
   ],
   "source": [
    "possibleBoards = [placeQueen(0, c, []) for c in range(N)]\n",
    "print(sum(possibleBoards))"
   ]
  },
  {
   "cell_type": "code",
   "execution_count": null,
   "metadata": {},
   "outputs": [],
   "source": []
  }
 ],
 "metadata": {
  "kernelspec": {
   "display_name": "base",
   "language": "python",
   "name": "python3"
  },
  "language_info": {
   "codemirror_mode": {
    "name": "ipython",
    "version": 3
   },
   "file_extension": ".py",
   "mimetype": "text/x-python",
   "name": "python",
   "nbconvert_exporter": "python",
   "pygments_lexer": "ipython3",
   "version": "3.11.8"
  }
 },
 "nbformat": 4,
 "nbformat_minor": 2
}
