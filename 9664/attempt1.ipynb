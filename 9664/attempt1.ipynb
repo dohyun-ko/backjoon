{
 "cells": [
  {
   "cell_type": "code",
   "execution_count": 4,
   "metadata": {},
   "outputs": [],
   "source": [
    "import copy\n",
    "N = int(input())"
   ]
  },
  {
   "cell_type": "code",
   "execution_count": 5,
   "metadata": {},
   "outputs": [],
   "source": [
    "def placeQueen(row, col, board):\n",
    "\n",
    "    if col == N - 1:\n",
    "        return 1\n",
    "\n",
    "    newBoard = copy.deepcopy(board[:row]) + copy.deepcopy(board[row+1:])\n",
    "    j = row - 1\n",
    "    k = row\n",
    "\n",
    "    colNum = col + 1\n",
    "    while colNum < N and (0 <= j or k < len(newBoard)):\n",
    "        if 0 <= j:\n",
    "            newBoard[j][colNum] = 1\n",
    "        if k < len(newBoard):\n",
    "            newBoard[k][colNum] = 1\n",
    "\n",
    "        j -= 1\n",
    "        k += 1\n",
    "        colNum += 1\n",
    "\n",
    "    print(row, col, newBoard)\n",
    "\n",
    "    possibleBoards = [\n",
    "        placeQueen(r, col + 1, newBoard) for r in range(len(newBoard)) if newBoard[r][col + 1] == 0\n",
    "    ]\n",
    "\n",
    "    return sum(possibleBoards)"
   ]
  },
  {
   "cell_type": "code",
   "execution_count": 6,
   "metadata": {},
   "outputs": [
    {
     "name": "stdout",
     "output_type": "stream",
     "text": [
      "0 0 [[0, 1, 0, 0], [0, 0, 1, 0], [0, 0, 0, 1]]\n",
      "1 1 [[0, 1, 1, 0], [0, 0, 1, 1]]\n",
      "2 1 [[0, 1, 0, 1], [0, 0, 1, 0]]\n",
      "0 2 [[0, 0, 1, 1]]\n",
      "1 0 [[0, 1, 0, 0], [0, 1, 0, 0], [0, 0, 1, 0]]\n",
      "2 1 [[0, 1, 0, 1], [0, 1, 1, 0]]\n",
      "0 2 [[0, 1, 1, 1]]\n",
      "2 0 [[0, 0, 1, 0], [0, 1, 0, 0], [0, 1, 0, 0]]\n",
      "0 1 [[0, 1, 1, 0], [0, 1, 0, 1]]\n",
      "1 2 [[0, 1, 1, 1]]\n",
      "3 0 [[0, 0, 0, 1], [0, 0, 1, 0], [0, 1, 0, 0]]\n",
      "0 1 [[0, 0, 1, 0], [0, 1, 0, 1]]\n",
      "1 2 [[0, 0, 1, 1]]\n",
      "1 1 [[0, 0, 1, 1], [0, 1, 1, 0]]\n",
      "0\n"
     ]
    }
   ],
   "source": [
    "board = [[0 for x in range(N)] for x in range(N)]\n",
    "possibleBoards = [placeQueen(r, 0, board) for r in range(N)]\n",
    "print(sum(possibleBoards))"
   ]
  },
  {
   "cell_type": "code",
   "execution_count": null,
   "metadata": {},
   "outputs": [],
   "source": []
  }
 ],
 "metadata": {
  "kernelspec": {
   "display_name": "base",
   "language": "python",
   "name": "python3"
  },
  "language_info": {
   "codemirror_mode": {
    "name": "ipython",
    "version": 3
   },
   "file_extension": ".py",
   "mimetype": "text/x-python",
   "name": "python",
   "nbconvert_exporter": "python",
   "pygments_lexer": "ipython3",
   "version": "3.11.8"
  }
 },
 "nbformat": 4,
 "nbformat_minor": 2
}
