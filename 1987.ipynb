{
 "cells": [
  {
   "cell_type": "code",
   "execution_count": 22,
   "metadata": {},
   "outputs": [],
   "source": [
    "R, C = list(map(int, input().split()))\n",
    "board = []\n",
    "for i in range(R):\n",
    "  board.append(input())"
   ]
  },
  {
   "cell_type": "code",
   "execution_count": 26,
   "metadata": {},
   "outputs": [
    {
     "name": "stdout",
     "output_type": "stream",
     "text": [
      "10\n"
     ]
    }
   ],
   "source": [
    "stack = [((0, 0), [])]\n",
    "max_depth = 0\n",
    "counter = 0\n",
    "\n",
    "memos = {}\n",
    "\n",
    "while stack and len(stack) < 100:\n",
    "  counter += 1\n",
    "  now, visited = stack.pop()\n",
    "  # print(now, visited)\n",
    "\n",
    "  visited.append(board[now[0]][now[1]])\n",
    "\n",
    "  key = (now, str(visited))\n",
    "\n",
    "  if key in memos:\n",
    "    continue\n",
    "\n",
    "  max_depth = max(max_depth, len(visited))\n",
    "  memos[key] = max_depth\n",
    "\n",
    "  m, n = now\n",
    "\n",
    "  adjs = []\n",
    "\n",
    "  if m > 0:\n",
    "    adjs.append((m-1, n))\n",
    "  if n > 0:\n",
    "    adjs.append((m, n-1))\n",
    "  if m < R-1:\n",
    "    adjs.append((m+1, n))\n",
    "  if n < C-1:\n",
    "    adjs.append((m, n+1))\n",
    "\n",
    "  for adj in adjs:\n",
    "    if not board[adj[0]][adj[1]] in visited:\n",
    "      stack.append((adj, visited[:]))\n",
    "  \n",
    "print(max_depth)"
   ]
  },
  {
   "cell_type": "code",
   "execution_count": 13,
   "metadata": {},
   "outputs": [],
   "source": [
    "def dfs(loc, visited):\n",
    "  m, n = loc\n",
    "\n",
    "  visited.append(board[m][n])\n",
    "\n",
    "  adjs = []\n",
    "\n",
    "  if m > 0:\n",
    "    adjs.append((m-1, n))\n",
    "  if n > 0:\n",
    "    adjs.append((m, n-1))\n",
    "  if m < R-1:\n",
    "    adjs.append((m+1, n))\n",
    "  if n < C-1:\n",
    "    adjs.append((m, n+1))\n",
    "  \n",
    "  max_depth = 0\n",
    "  for adj in adjs:\n",
    "    if not board[adj[0]][adj[1]] in visited:\n",
    "      max_depth = max(max_depth, dfs(adj, visited[:]))\n",
    "  \n",
    "  return max_depth + 1"
   ]
  },
  {
   "cell_type": "code",
   "execution_count": null,
   "metadata": {},
   "outputs": [],
   "source": []
  }
 ],
 "metadata": {
  "kernelspec": {
   "display_name": "base",
   "language": "python",
   "name": "python3"
  },
  "language_info": {
   "codemirror_mode": {
    "name": "ipython",
    "version": 3
   },
   "file_extension": ".py",
   "mimetype": "text/x-python",
   "name": "python",
   "nbconvert_exporter": "python",
   "pygments_lexer": "ipython3",
   "version": "3.11.4"
  }
 },
 "nbformat": 4,
 "nbformat_minor": 2
}
