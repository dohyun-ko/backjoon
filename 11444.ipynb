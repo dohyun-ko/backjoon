{
 "cells": [
  {
   "cell_type": "code",
   "execution_count": 53,
   "metadata": {},
   "outputs": [],
   "source": [
    "n = int(input())"
   ]
  },
  {
   "cell_type": "code",
   "execution_count": 54,
   "metadata": {},
   "outputs": [],
   "source": [
    "counter = 3\n",
    "\n",
    "fibos = [0, 1, 1]\n",
    "\n",
    "while counter <= n:\n",
    "  mod = counter % 3\n",
    "\n",
    "  if mod == 0:\n",
    "    fibos[0] = (fibos[1] + fibos[2]) % 100\n",
    "  if mod == 1:\n",
    "    fibos[1] = fibos[0] + fibos[2] % 100\n",
    "  if mod == 2:\n",
    "    fibos[2] = fibos[0] + fibos[1] % 100\n",
    "  \n",
    "  counter += 1"
   ]
  },
  {
   "cell_type": "code",
   "execution_count": 55,
   "metadata": {},
   "outputs": [
    {
     "name": "stdout",
     "output_type": "stream",
     "text": [
      "97\n"
     ]
    }
   ],
   "source": [
    "print(fibos[(n) % 3] % 1000000007)"
   ]
  }
 ],
 "metadata": {
  "kernelspec": {
   "display_name": "base",
   "language": "python",
   "name": "python3"
  },
  "language_info": {
   "codemirror_mode": {
    "name": "ipython",
    "version": 3
   },
   "file_extension": ".py",
   "mimetype": "text/x-python",
   "name": "python",
   "nbconvert_exporter": "python",
   "pygments_lexer": "ipython3",
   "version": "3.11.4"
  }
 },
 "nbformat": 4,
 "nbformat_minor": 2
}
