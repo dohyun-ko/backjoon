{
 "cells": [
  {
   "cell_type": "code",
   "execution_count": 1,
   "metadata": {},
   "outputs": [],
   "source": [
    "N, M = list(map(int, input().split()))\n",
    "\n",
    "grid = [list(map(int, input().split())) for x in range(N)]"
   ]
  },
  {
   "cell_type": "code",
   "execution_count": 4,
   "metadata": {},
   "outputs": [],
   "source": [
    "tetrominoes = [\n",
    "  # Bar\n",
    "  [(0,0), (0,1), (0,2), (0,3)],\n",
    "  [(0,0), (1,0), (2,0), (3,0)],\n",
    "\n",
    "  # Square\n",
    "  [(0,0), (0,1), (1,0), (1,1)],\n",
    "\n",
    "  # ⬛️⬛️⬜️\n",
    "  # ⬛️⬜️⬜️\n",
    "  # ⬛️⬜️⬜️ and rotations\n",
    "  [(0,0), (0,1), (1,0), (2,0)],\n",
    "  [(0,0), (0,1), (0,2), (1,2)],\n",
    "  [(0,1), (1,1), (2,1), (2,0)],\n",
    "  [(0,0), (1,0), (1,1), (1,2)],\n",
    "\n",
    "  # ⬛️⬛️⬜️\n",
    "  # ⬜️⬛️⬜️\n",
    "  # ⬜️⬛️⬜️ and rotations\n",
    "  [(0,0), (0,1), (1,1), (2,1)],\n",
    "  [(1,0), (1,1), (1,2), (0,2)],\n",
    "  [(0,0), (1,0), (2,0), (2,1)],\n",
    "  [(0,0), (0,1), (0,2), (1,0)],\n",
    "\n",
    "  # ⬜️⬛️⬜️\n",
    "  # ⬛️⬛️⬛️\n",
    "  # ⬜️⬜️⬜️ and rotations\n",
    "  [(0,1), (1,0), (1,1), (1,2)],\n",
    "  [(0,0), (1,0), (1,1), (2,0)],\n",
    "  [(0,0), (0,1), (0,2), (1,1)],\n",
    "  [(0,1), (1,0), (1,1), (2,1)],\n",
    "\n",
    "  # ⬛️⬜️⬜️\n",
    "  # ⬛⬛️⬜️\n",
    "  # ⬜️⬛️⬜️ and rotations\n",
    "  [(0,0), (1,0), (1,1), (2,1)],\n",
    "  [(0,1), (0,2), (1,0), (1,1)],\n",
    "  \n",
    "  # ⬜️⬛️⬜️\n",
    "  # ⬛⬛️⬜️\n",
    "  # ⬛️⬜️⬜️ and rotations\n",
    "  [(0,1), (1,0), (1,1), (2,0)],\n",
    "  [(0,0), (0,1), (1,1), (1,2)]\n",
    "]"
   ]
  },
  {
   "cell_type": "code",
   "execution_count": 7,
   "metadata": {},
   "outputs": [],
   "source": [
    "def overlay_tetromino(n, m):\n",
    "  highest = 0\n",
    "\n",
    "  for tetromino in tetrominoes:\n",
    "    local_sum = 0\n",
    "    try:\n",
    "      for cell in tetromino:\n",
    "        local_sum += grid[cell[0] + n][cell[1] + m]\n",
    "    except:\n",
    "      continue\n",
    "\n",
    "    highest = max(highest, local_sum)\n",
    "\n",
    "  return highest"
   ]
  },
  {
   "cell_type": "code",
   "execution_count": 8,
   "metadata": {},
   "outputs": [],
   "source": [
    "highest = 0\n",
    "\n",
    "for n in range(N):\n",
    "  for m in range(M):\n",
    "    highest = max(overlay_tetromino(n, m), highest)"
   ]
  },
  {
   "cell_type": "code",
   "execution_count": null,
   "metadata": {},
   "outputs": [],
   "source": [
    "print(highest)"
   ]
  }
 ],
 "metadata": {
  "kernelspec": {
   "display_name": "base",
   "language": "python",
   "name": "python3"
  },
  "language_info": {
   "codemirror_mode": {
    "name": "ipython",
    "version": 3
   },
   "file_extension": ".py",
   "mimetype": "text/x-python",
   "name": "python",
   "nbconvert_exporter": "python",
   "pygments_lexer": "ipython3",
   "version": "3.11.8"
  }
 },
 "nbformat": 4,
 "nbformat_minor": 2
}
