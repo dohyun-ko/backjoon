{
 "cells": [
  {
   "cell_type": "code",
   "execution_count": 21,
   "metadata": {},
   "outputs": [],
   "source": [
    "N = int(input())\n",
    "\n",
    "students = [list(map(int, input().split())) for x in range(N*N)]"
   ]
  },
  {
   "cell_type": "code",
   "execution_count": 49,
   "metadata": {},
   "outputs": [],
   "source": [
    "seat_grid = [[0 for x in range(N)] for y in range(N)]"
   ]
  },
  {
   "cell_type": "code",
   "execution_count": 50,
   "metadata": {},
   "outputs": [],
   "source": [
    "def count_friends (friends, position):\n",
    "  n, m = position\n",
    "\n",
    "  count = 0\n",
    "  empty_count = 0\n",
    "\n",
    "  seats_to_check = []\n",
    "  \n",
    "  if 0 < n:\n",
    "    seats_to_check.append((n-1, m))\n",
    "  if n < N - 1:\n",
    "    seats_to_check.append((n+1, m))\n",
    "  if 0 < m:\n",
    "    seats_to_check.append((n, m-1))\n",
    "  if m < N - 1:\n",
    "    seats_to_check.append((n, m+1))\n",
    "\n",
    "  for seat in seats_to_check:\n",
    "    if seat_grid[seat[0]][seat[1]] in friends:\n",
    "      count += 1\n",
    "    if seat_grid[seat[0]][seat[1]] == 0:\n",
    "      empty_count += 1\n",
    "\n",
    "  is_empty = seat_grid[n][m] == 0\n",
    "\n",
    "  return count, empty_count, is_empty"
   ]
  },
  {
   "cell_type": "code",
   "execution_count": 51,
   "metadata": {},
   "outputs": [],
   "source": [
    "for student in students:\n",
    "\n",
    "  student_num = student[0]\n",
    "  friends = student[1:]\n",
    "\n",
    "  max_adj_friends = 0\n",
    "  possible_seats = []\n",
    "\n",
    "  for n in range(N):\n",
    "    for m in range(N):\n",
    "      count, empty_count, is_empty = count_friends(friends, (n, m))\n",
    "      # print((n,m) ,count, empty_count, is_empty)\n",
    "\n",
    "      if not is_empty:\n",
    "        continue\n",
    "\n",
    "      if count > max_adj_friends:\n",
    "        max_adj_friends = count\n",
    "        possible_seats = []\n",
    "\n",
    "      if count == max_adj_friends:\n",
    "        possible_seats.append((n, m, empty_count))\n",
    "      # print(possible_seats)\n",
    "\n",
    "  \n",
    "  possible_seats.sort(key=lambda x: (-x[2], x[0], x[1]))\n",
    "  # print(possible_seats)\n",
    "\n",
    "  the_seat = possible_seats[0]\n",
    "\n",
    "  seat_grid[the_seat[0]][the_seat[1]] = student_num"
   ]
  },
  {
   "cell_type": "code",
   "execution_count": 52,
   "metadata": {},
   "outputs": [],
   "source": [
    "satisfaction = 0\n",
    "\n",
    "sorted_students = sorted(students, key=lambda x: x[0])\n",
    "\n",
    "for n in range(N):\n",
    "  for m in range(N):\n",
    "    student = seat_grid[n][m]\n",
    "    friends = sorted_students[student-1][1:]\n",
    "    count, _, _ = count_friends(friends, (n,m))\n",
    "\n",
    "    if count > 0:\n",
    "      satisfaction += 10 ** (count-1)"
   ]
  },
  {
   "cell_type": "code",
   "execution_count": 48,
   "metadata": {},
   "outputs": [
    {
     "name": "stdout",
     "output_type": "stream",
     "text": [
      "54\n"
     ]
    }
   ],
   "source": [
    "print(satisfaction)"
   ]
  },
  {
   "cell_type": "code",
   "execution_count": null,
   "metadata": {},
   "outputs": [],
   "source": []
  },
  {
   "cell_type": "code",
   "execution_count": null,
   "metadata": {},
   "outputs": [],
   "source": []
  }
 ],
 "metadata": {
  "kernelspec": {
   "display_name": "base",
   "language": "python",
   "name": "python3"
  },
  "language_info": {
   "codemirror_mode": {
    "name": "ipython",
    "version": 3
   },
   "file_extension": ".py",
   "mimetype": "text/x-python",
   "name": "python",
   "nbconvert_exporter": "python",
   "pygments_lexer": "ipython3",
   "version": "3.11.8"
  }
 },
 "nbformat": 4,
 "nbformat_minor": 2
}
