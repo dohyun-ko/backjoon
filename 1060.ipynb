{
 "cells": [
  {
   "cell_type": "code",
   "execution_count": 370,
   "metadata": {},
   "outputs": [],
   "source": [
    "L = int(input())\n",
    "S = list(map(int, input().split()))\n",
    "n = int(input())"
   ]
  },
  {
   "cell_type": "code",
   "execution_count": 371,
   "metadata": {},
   "outputs": [],
   "source": [
    "good_numbers = [(0, x) for x in S]"
   ]
  },
  {
   "cell_type": "code",
   "execution_count": 372,
   "metadata": {},
   "outputs": [],
   "source": [
    "# overlapped, A, B, length\n",
    "sections = [(0, 0, S[0], S[0] - 1), (0, S[-1], float(\"inf\"), float(\"inf\") - S[-1] - 1)]\n",
    "\n",
    "for i in range(1, len(S)):\n",
    "  sections.append((0, S[i-1], S[i], S[i] - S[i-1] - 1))\n"
   ]
  },
  {
   "cell_type": "code",
   "execution_count": 373,
   "metadata": {},
   "outputs": [],
   "source": [
    "from queue import PriorityQueue\n",
    "\n",
    "que = PriorityQueue()\n",
    "\n",
    "_ = [que.put(section) for section in sections]\n"
   ]
  },
  {
   "cell_type": "code",
   "execution_count": 374,
   "metadata": {},
   "outputs": [],
   "source": [
    "while que.qsize():\n",
    "  # print(sorted(good_numbers))\n",
    "  overlap, A, B, leng = que.get()\n",
    "\n",
    "\n",
    "  if B - A <= 1:\n",
    "    continue\n",
    "  if B - A == 2:\n",
    "    good_numbers.append((overlap, A + 1))\n",
    "    continue\n",
    "\n",
    "  good_numbers.append((leng - 1 + overlap, A + 1))\n",
    "\n",
    "  good_numbers.append((leng - 1 + overlap, B - 1))\n",
    "\n",
    "  if len(good_numbers) > 10*n:\n",
    "    break\n",
    "\n",
    "  if B - A > 2:\n",
    "    que.put((overlap + leng, A + 1, B - 1, leng - 2))\n"
   ]
  },
  {
   "cell_type": "code",
   "execution_count": 375,
   "metadata": {},
   "outputs": [
    {
     "name": "stdout",
     "output_type": "stream",
     "text": [
      "3 1 2 4 5 6\n"
     ]
    }
   ],
   "source": [
    "good_numbers.sort()\n",
    "\n",
    "for i in range(n):\n",
    "  if i < n - 1:\n",
    "    print(good_numbers[i][1], end=\" \")\n",
    "  else:\n",
    "    print(good_numbers[i][1])"
   ]
  },
  {
   "cell_type": "code",
   "execution_count": 376,
   "metadata": {},
   "outputs": [
    {
     "data": {
      "text/plain": [
       "[(0, 3),\n",
       " (1, 1),\n",
       " (1, 2),\n",
       " (inf, 4),\n",
       " (inf, 5),\n",
       " (inf, 6),\n",
       " (inf, 7),\n",
       " (inf, 8),\n",
       " (inf, 9),\n",
       " (inf, 10),\n",
       " (inf, 11),\n",
       " (inf, 12),\n",
       " (inf, 13),\n",
       " (inf, 14),\n",
       " (inf, 15),\n",
       " (inf, 16),\n",
       " (inf, 17),\n",
       " (inf, 18),\n",
       " (inf, 19),\n",
       " (inf, 20),\n",
       " (inf, 21),\n",
       " (inf, 22),\n",
       " (inf, 23),\n",
       " (inf, 24),\n",
       " (inf, 25),\n",
       " (inf, 26),\n",
       " (inf, 27),\n",
       " (inf, 28),\n",
       " (inf, 29),\n",
       " (inf, 30),\n",
       " (inf, 31),\n",
       " (inf, 32),\n",
       " (inf, inf),\n",
       " (inf, inf),\n",
       " (inf, inf),\n",
       " (inf, inf),\n",
       " (inf, inf),\n",
       " (inf, inf),\n",
       " (inf, inf),\n",
       " (inf, inf),\n",
       " (inf, inf),\n",
       " (inf, inf),\n",
       " (inf, inf),\n",
       " (inf, inf),\n",
       " (inf, inf),\n",
       " (inf, inf),\n",
       " (inf, inf),\n",
       " (inf, inf),\n",
       " (inf, inf),\n",
       " (inf, inf),\n",
       " (inf, inf),\n",
       " (inf, inf),\n",
       " (inf, inf),\n",
       " (inf, inf),\n",
       " (inf, inf),\n",
       " (inf, inf),\n",
       " (inf, inf),\n",
       " (inf, inf),\n",
       " (inf, inf),\n",
       " (inf, inf),\n",
       " (inf, inf)]"
      ]
     },
     "execution_count": 376,
     "metadata": {},
     "output_type": "execute_result"
    }
   ],
   "source": [
    "good_numbers"
   ]
  },
  {
   "cell_type": "markdown",
   "metadata": {},
   "source": [
    "44038789 49029517 76763415 85943415 106542667 110176867 131815906 143088243 163818596 198228743 250223208 268183411 273034598 324497321 374366233 402783133 418378462 418643438 435417951 438858257 440887908 459756428 468279235 481298985 524356333 571337376 585204488 639807165 641043060 643661568 649825693 651296766 655094129 670453797 712631386 745391128 769953957 781526059 786837461 793584511 836656621 849055470 856246113 864020791 914446809 922636559 926234515 927027166 965143212 998619436 643661569 655094128 643661570 655094127 643661571 655094126 643661572 655094125 643661573 655094124 643661574 655094123 643661575 655094122 643661576 655094121 643661577 655094120 643661578 655094119 324497322 440887907 643661579 655094118 786837462 914446808 793584512 927027165 643661580 655094117 649825694 793584510 643661581 655094116 268183412 418378461 769953958 926234514 643661582 655094115 643661583 655094114 643661584 655094113 643661585 655094112 440887909 639807164 438858258 641043059 \n",
    "\n",
    "44038789 49029517 76763415 85943415 106542667 110176867 131815906 143088243 163818596 198228743 250223208 268183411 273034598 324497321 374366233 402783133 418378462 418643438 435417951 438858257 440887908 459756428 468279235 481298985 524356333 571337376 585204488 639807165 641043060 643661568 649825693 651296766 655094129 670453797 712631386 745391128 769953957 781526059 786837461 793584511 836656621 849055470 856246113 864020791 914446809 922636559 926234515 927027166 965143212 998619436 418378463 418643437 418378464 418643436 926234516 927027165 418378465 418643435 418378466 418643434 639807166 641043059 418378467 418643433 649825694 651296765 926234517 927027164 418378468 418643432 418378469 418643431 438858258 440887907 418378470 418643430 926234518 927027163 418378471 418643429 639807167 641043058 641043061 643661567 418378472 418643428 418378473 418643427 649825695 651296764 926234519 927027162 418378474 418643426 435417952 438858256 418378475 418643425 922636560 926234514 "
   ]
  },
  {
   "cell_type": "code",
   "execution_count": 377,
   "metadata": {},
   "outputs": [],
   "source": [
    "ss.sort()"
   ]
  },
  {
   "cell_type": "code",
   "execution_count": 378,
   "metadata": {},
   "outputs": [
    {
     "name": "stdout",
     "output_type": "stream",
     "text": [
      "[44038789, 49029517, 76763415, 85943415, 106542667, 110176867, 131815906, 143088243, 163818596, 198228743, 250223208, 268183411, 273034598, 324497321, 374366233, 402783133, 418378462, 418643438, 435417951, 438858257, 440887908, 459756428, 468279235, 481298985, 524356333, 571337376, 585204488, 639807165, 641043060, 643661568, 649825693, 651296766, 655094129, 670453797, 712631386, 745391128, 769953957, 781526059, 786837461, 793584511, 836656621, 849055470, 856246113, 864020791, 914446809, 922636559, 926234515, 927027166, 965143212, 998619436]\n"
     ]
    }
   ],
   "source": [
    "minus_ss = []\n",
    "for i in range(0, len(ss)):\n",
    "  minus_ss.append(ss[i-1] - ss[i])\n",
    "\n",
    "print(sorted(ss))"
   ]
  },
  {
   "cell_type": "code",
   "execution_count": null,
   "metadata": {},
   "outputs": [],
   "source": []
  }
 ],
 "metadata": {
  "kernelspec": {
   "display_name": "base",
   "language": "python",
   "name": "python3"
  },
  "language_info": {
   "codemirror_mode": {
    "name": "ipython",
    "version": 3
   },
   "file_extension": ".py",
   "mimetype": "text/x-python",
   "name": "python",
   "nbconvert_exporter": "python",
   "pygments_lexer": "ipython3",
   "version": "3.11.8"
  }
 },
 "nbformat": 4,
 "nbformat_minor": 2
}
