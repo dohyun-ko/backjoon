{
 "cells": [
  {
   "cell_type": "code",
   "execution_count": 89,
   "metadata": {},
   "outputs": [],
   "source": [
    "n = int(input())\n",
    "\n",
    "stair = []\n",
    "\n",
    "for i in range(n):\n",
    "\tstair.append(int(input()))"
   ]
  },
  {
   "cell_type": "code",
   "execution_count": 90,
   "metadata": {},
   "outputs": [],
   "source": [
    "memos = {}"
   ]
  },
  {
   "cell_type": "code",
   "execution_count": 94,
   "metadata": {},
   "outputs": [],
   "source": [
    "def step(stair, in_a_row):\n",
    "\tkey = (str(stair), in_a_row)\n",
    "\n",
    "\tif key in memos:\n",
    "\t\treturn memos[key]\n",
    "\n",
    "\tif in_a_row >= 3:\n",
    "\t\treturn -10000\n",
    "\tif (len(stair) == 1):\n",
    "\t\tmemos[key] = stair[0]\n",
    "\t\treturn memos[key]\n",
    "\tif (len(stair) == 2):\n",
    "\t\tmemos[key] = stair[0] + stair[1]\n",
    "\t\treturn memos[key]\n",
    "\tif (len(stair) == 3):\n",
    "\t\tmemos[key] = stair[0] + stair[2]\n",
    "\t\treturn memos[key]\n",
    "\t\n",
    "\tif in_a_row == 2:\n",
    "\t\tmemos[key] = stair[0] + step(stair[2:], 1)\n",
    "\t\treturn memos[key]\n",
    "\telse:\n",
    "\t\tmemos[key] = max(stair[0] + step(stair[2:], 1), stair[0] + step(stair[1:], in_a_row + 1))\n",
    "\t\treturn memos[key]"
   ]
  },
  {
   "cell_type": "code",
   "execution_count": 95,
   "metadata": {},
   "outputs": [
    {
     "name": "stdout",
     "output_type": "stream",
     "text": [
      "30\n"
     ]
    }
   ],
   "source": [
    "memos = {}\n",
    "print(step([0] + stair, 0))"
   ]
  },
  {
   "cell_type": "code",
   "execution_count": 96,
   "metadata": {},
   "outputs": [
    {
     "data": {
      "text/plain": [
       "{('[3, 8]', 1): 11,\n",
       " ('[7, 3, 8]', 2): 15,\n",
       " ('[3, 7, 3, 8]', 1): 18,\n",
       " ('[7, 3, 8]', 1): 15,\n",
       " ('[7, 3, 7, 3, 8]', 2): 22,\n",
       " ('[8, 7, 3, 7, 3, 8]', 1): 30,\n",
       " ('[3, 7, 3, 8]', 2): 14,\n",
       " ('[7, 3, 7, 3, 8]', 1): 22,\n",
       " ('[8, 7, 3, 7, 3, 8]', 2): 26,\n",
       " ('[1, 8, 7, 3, 7, 3, 8]', 1): 27,\n",
       " ('[0, 1, 8, 7, 3, 7, 3, 8]', 0): 30}"
      ]
     },
     "execution_count": 96,
     "metadata": {},
     "output_type": "execute_result"
    }
   ],
   "source": [
    "memos"
   ]
  }
 ],
 "metadata": {
  "kernelspec": {
   "display_name": "Python 3",
   "language": "python",
   "name": "python3"
  },
  "language_info": {
   "codemirror_mode": {
    "name": "ipython",
    "version": 3
   },
   "file_extension": ".py",
   "mimetype": "text/x-python",
   "name": "python",
   "nbconvert_exporter": "python",
   "pygments_lexer": "ipython3",
   "version": "3.11.4"
  }
 },
 "nbformat": 4,
 "nbformat_minor": 2
}
