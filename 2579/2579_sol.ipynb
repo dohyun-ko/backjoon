{
 "cells": [
  {
   "cell_type": "code",
   "execution_count": 1,
   "metadata": {},
   "outputs": [
    {
     "ename": "ValueError",
     "evalue": "invalid literal for int() with base 10: ''",
     "output_type": "error",
     "traceback": [
      "\u001b[0;31m---------------------------------------------------------------------------\u001b[0m",
      "\u001b[0;31mValueError\u001b[0m                                Traceback (most recent call last)",
      "\u001b[1;32m/Users/dori/Projects/Algorithm/baekjoon/2579/2579_sol.ipynb Cell 1\u001b[0m line \u001b[0;36m6\n\u001b[1;32m      <a href='vscode-notebook-cell:/Users/dori/Projects/Algorithm/baekjoon/2579/2579_sol.ipynb#W0sZmlsZQ%3D%3D?line=2'>3</a>\u001b[0m stair \u001b[39m=\u001b[39m []\n\u001b[1;32m      <a href='vscode-notebook-cell:/Users/dori/Projects/Algorithm/baekjoon/2579/2579_sol.ipynb#W0sZmlsZQ%3D%3D?line=4'>5</a>\u001b[0m \u001b[39mfor\u001b[39;00m i \u001b[39min\u001b[39;00m \u001b[39mrange\u001b[39m(n):\n\u001b[0;32m----> <a href='vscode-notebook-cell:/Users/dori/Projects/Algorithm/baekjoon/2579/2579_sol.ipynb#W0sZmlsZQ%3D%3D?line=5'>6</a>\u001b[0m \tstair\u001b[39m.\u001b[39mappend(\u001b[39mint\u001b[39;49m(\u001b[39minput\u001b[39;49m()))\n",
      "\u001b[0;31mValueError\u001b[0m: invalid literal for int() with base 10: ''"
     ]
    }
   ],
   "source": [
    "n = int(input())\n",
    "\n",
    "stair = []\n",
    "\n",
    "for i in range(n):\n",
    "\tstair.append(int(input()))"
   ]
  },
  {
   "cell_type": "code",
   "execution_count": null,
   "metadata": {},
   "outputs": [],
   "source": [
    "memos = {}"
   ]
  },
  {
   "cell_type": "code",
   "execution_count": null,
   "metadata": {},
   "outputs": [],
   "source": [
    "def step(stair, in_a_row):\n",
    "\tkey = (str(stair), in_a_row)\n",
    "\n",
    "\tif key in memos:\n",
    "\t\treturn memos[key]\n",
    "\n",
    "\tif in_a_row >= 3:\n",
    "\t\treturn -10000\n",
    "\tif (len(stair) == 1):\n",
    "\t\tmemos[key] = stair[0]\n",
    "\t\treturn memos[key]\n",
    "\tif (len(stair) == 2):\n",
    "\t\tmemos[key] = stair[0] + stair[1]\n",
    "\t\treturn memos[key]\n",
    "\tif (len(stair) == 3):\n",
    "\t\tmemos[key] = stair[0] + stair[2]\n",
    "\t\treturn memos[key]\n",
    "\t\n",
    "\tif in_a_row == 2:\n",
    "\t\tmemos[key] = stair[0] + step(stair[2:], 1)\n",
    "\t\treturn memos[key]\n",
    "\telse:\n",
    "\t\tmemos[key] = max(stair[0] + step(stair[2:], 1), stair[0] + step(stair[1:], in_a_row + 1))\n",
    "\t\treturn memos[key]"
   ]
  },
  {
   "cell_type": "code",
   "execution_count": null,
   "metadata": {},
   "outputs": [
    {
     "name": "stdout",
     "output_type": "stream",
     "text": [
      "75\n"
     ]
    }
   ],
   "source": [
    "memos = {}\n",
    "print(step(stair, 1))"
   ]
  },
  {
   "cell_type": "code",
   "execution_count": null,
   "metadata": {},
   "outputs": [
    {
     "data": {
      "text/plain": [
       "{('[10, 20]', 1): 30,\n",
       " ('[25, 10, 20]', 2): 45,\n",
       " ('[15, 25, 10, 20]', 1): 60,\n",
       " ('[25, 10, 20]', 1): 45,\n",
       " ('[20, 15, 25, 10, 20]', 2): 65,\n",
       " ('[10, 20, 15, 25, 10, 20]', 1): 75}"
      ]
     },
     "execution_count": 88,
     "metadata": {},
     "output_type": "execute_result"
    }
   ],
   "source": [
    "memos"
   ]
  }
 ],
 "metadata": {
  "kernelspec": {
   "display_name": "Python 3",
   "language": "python",
   "name": "python3"
  },
  "language_info": {
   "codemirror_mode": {
    "name": "ipython",
    "version": 3
   },
   "file_extension": ".py",
   "mimetype": "text/x-python",
   "name": "python",
   "nbconvert_exporter": "python",
   "pygments_lexer": "ipython3",
   "version": "3.11.4"
  }
 },
 "nbformat": 4,
 "nbformat_minor": 2
}
