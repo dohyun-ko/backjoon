{
 "cells": [
  {
   "cell_type": "code",
   "execution_count": 7,
   "metadata": {},
   "outputs": [],
   "source": [
    "N = int(input())\n",
    "M = int(input())"
   ]
  },
  {
   "cell_type": "code",
   "execution_count": 8,
   "metadata": {},
   "outputs": [],
   "source": [
    "distances = [[] for j in range(N + 1)]\n",
    "for _ in range(M):\n",
    "  a, b, c = map(int, input().split())\n",
    "  distances[a].append((c, b))\n",
    "\n",
    "start, end = map(int, input().split())"
   ]
  },
  {
   "cell_type": "code",
   "execution_count": 30,
   "metadata": {},
   "outputs": [],
   "source": [
    "import heapq\n",
    "\n",
    "from_start = [float('inf')] * (N + 1)\n",
    "paths = [[] for _ in range(N + 1)]\n",
    "\n",
    "\n",
    "def dijkstra(start, distances):\n",
    "  q = []\n",
    "  heapq.heappush(q, (0, start))\n",
    "\n",
    "  while q:\n",
    "    dist, now = heapq.heappop(q)\n",
    "\n",
    "    if from_start[now] < dist:\n",
    "      continue\n",
    "\n",
    "    for c, e in distances[now]:\n",
    "      cost = dist + c\n",
    "\n",
    "      if cost < from_start[e]:\n",
    "        from_start[e] = cost\n",
    "        paths[e] = paths[now][:] + [e]\n",
    "        heapq.heappush(q, (cost, e))"
   ]
  },
  {
   "cell_type": "code",
   "execution_count": 31,
   "metadata": {},
   "outputs": [],
   "source": [
    "from_start[start] = (0)\n",
    "paths[start] = [start]"
   ]
  },
  {
   "cell_type": "code",
   "execution_count": 32,
   "metadata": {},
   "outputs": [],
   "source": [
    "dijkstra(start, distances)"
   ]
  },
  {
   "cell_type": "code",
   "execution_count": 33,
   "metadata": {},
   "outputs": [
    {
     "name": "stdout",
     "output_type": "stream",
     "text": [
      "4\n",
      "3\n",
      "1 4 5 "
     ]
    }
   ],
   "source": [
    "print(from_start[end])\n",
    "print(len(paths[end]))\n",
    "for city in paths[end]:\n",
    "  print(city, end=\" \")"
   ]
  },
  {
   "cell_type": "code",
   "execution_count": null,
   "metadata": {},
   "outputs": [],
   "source": []
  }
 ],
 "metadata": {
  "kernelspec": {
   "display_name": "base",
   "language": "python",
   "name": "python3"
  },
  "language_info": {
   "codemirror_mode": {
    "name": "ipython",
    "version": 3
   },
   "file_extension": ".py",
   "mimetype": "text/x-python",
   "name": "python",
   "nbconvert_exporter": "python",
   "pygments_lexer": "ipython3",
   "version": "3.11.4"
  }
 },
 "nbformat": 4,
 "nbformat_minor": 2
}
