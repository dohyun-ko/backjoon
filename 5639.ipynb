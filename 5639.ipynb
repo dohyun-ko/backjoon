{
 "cells": [
  {
   "cell_type": "code",
   "execution_count": 62,
   "metadata": {},
   "outputs": [],
   "source": [
    "class Node:\n",
    "  value = None\n",
    "  left = None\n",
    "  right = None\n",
    "  root = None\n",
    "\n",
    "  def __init__(self, root, value) -> None:\n",
    "    self.value = value\n",
    "    self.root = root\n",
    "\n",
    "  def add_left(self, left):\n",
    "    self.left = left\n",
    "  \n",
    "  def add_right(self, right):\n",
    "    self.right = right"
   ]
  },
  {
   "cell_type": "code",
   "execution_count": 67,
   "metadata": {},
   "outputs": [],
   "source": [
    "inputs = []\n",
    "while True:\n",
    "  try:\n",
    "    this = input()\n",
    "    if not this:\n",
    "      break\n",
    "    inputs.append(int(this))\n",
    "  except EOFError:\n",
    "    break"
   ]
  },
  {
   "cell_type": "code",
   "execution_count": 68,
   "metadata": {},
   "outputs": [],
   "source": [
    "inputs = [50, 30, 24, 5, 27, 25, 26, 28, 29, 45, 98, 52, 60, 106, 109, 108, 110]"
   ]
  },
  {
   "cell_type": "code",
   "execution_count": 69,
   "metadata": {},
   "outputs": [],
   "source": [
    "tree = Node(None, value=inputs[0])\n",
    "\n",
    "pointer = tree\n",
    "\n",
    "for i in range(1, len(inputs)):\n",
    "  # print(\"input\", inputs[i])\n",
    "\n",
    "  if inputs[i] < pointer.value:\n",
    "    pointer.left = Node(pointer, inputs[i])\n",
    "    # print(pointer.value)\n",
    "    pointer = pointer.left\n",
    "  elif inputs[i] > pointer.value:\n",
    "    while pointer.root and inputs[i] > pointer.root.value:\n",
    "      # print(\"pointer change\", pointer.value, pointer.root.value)\n",
    "      pointer = pointer.root\n",
    "    \n",
    "    while pointer.right:\n",
    "      pointer = pointer.right\n",
    "\n",
    "    pointer.right = Node(pointer, inputs[i])\n",
    "    pointer = pointer.right"
   ]
  },
  {
   "cell_type": "code",
   "execution_count": 70,
   "metadata": {},
   "outputs": [],
   "source": [
    "def print_tree(tree):\n",
    "  if tree.value == None:\n",
    "    return\n",
    "  if tree.left:\n",
    "    print_tree(tree.left)\n",
    "  \n",
    "  if tree.right:\n",
    "    print_tree(tree.right)\n",
    "\n",
    "  print(tree.value)\n",
    "\n",
    "# iteration으로 바꿔서 구현"
   ]
  },
  {
   "cell_type": "code",
   "execution_count": 71,
   "metadata": {},
   "outputs": [
    {
     "name": "stdout",
     "output_type": "stream",
     "text": [
      "5\n",
      "26\n",
      "25\n",
      "29\n",
      "28\n",
      "27\n",
      "24\n",
      "45\n",
      "30\n",
      "60\n",
      "52\n",
      "108\n",
      "110\n",
      "109\n",
      "106\n",
      "98\n",
      "50\n"
     ]
    }
   ],
   "source": [
    "print_tree(tree)"
   ]
  },
  {
   "cell_type": "code",
   "execution_count": null,
   "metadata": {},
   "outputs": [],
   "source": []
  },
  {
   "cell_type": "code",
   "execution_count": null,
   "metadata": {},
   "outputs": [],
   "source": []
  }
 ],
 "metadata": {
  "kernelspec": {
   "display_name": "base",
   "language": "python",
   "name": "python3"
  },
  "language_info": {
   "codemirror_mode": {
    "name": "ipython",
    "version": 3
   },
   "file_extension": ".py",
   "mimetype": "text/x-python",
   "name": "python",
   "nbconvert_exporter": "python",
   "pygments_lexer": "ipython3",
   "version": "3.11.4"
  }
 },
 "nbformat": 4,
 "nbformat_minor": 2
}
