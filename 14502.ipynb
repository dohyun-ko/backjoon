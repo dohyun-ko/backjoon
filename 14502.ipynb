{
 "cells": [
  {
   "cell_type": "code",
   "execution_count": 45,
   "metadata": {},
   "outputs": [],
   "source": [
    "N, M = list(map(int, input().split()))\n",
    "grid = [list(map(int, input().split())) for x in range(N)]"
   ]
  },
  {
   "cell_type": "code",
   "execution_count": 46,
   "metadata": {},
   "outputs": [],
   "source": [
    "import copy\n",
    "\n",
    "number_of_walls = 0\n",
    "pos_of_viruses = []\n",
    "\n",
    "for i in range(N):\n",
    "  for j in range(M):\n",
    "    if grid[i][j] == 1:\n",
    "      number_of_walls += 1\n",
    "    if grid[i][j] == 2:\n",
    "      pos_of_viruses.append((i,j))"
   ]
  },
  {
   "cell_type": "code",
   "execution_count": 47,
   "metadata": {},
   "outputs": [],
   "source": [
    "directions = [(0,1), (1,0), (0,-1), (-1,0)]\n",
    "\n",
    "def calculate_area(grid):\n",
    "  queue = [*pos_of_viruses]\n",
    "\n",
    "  number_of_viruses = 0\n",
    "\n",
    "  visited = []\n",
    "\n",
    "  while queue:\n",
    "    y, x = queue.pop(0)\n",
    "    \n",
    "    if (y,x) in visited:\n",
    "      continue\n",
    "\n",
    "    number_of_viruses += 1\n",
    "    grid[y][x] = 2\n",
    "    visited.append((y,x))\n",
    "\n",
    "    for dir in directions:\n",
    "      new_y = y + dir[0]\n",
    "      new_x = x + dir[1]\n",
    "      \n",
    "      if new_x < 0 or new_y < 0 or new_x >= M or new_y >= N:\n",
    "        continue\n",
    "\n",
    "      if grid[new_y][new_x] != 0:\n",
    "        continue\n",
    "      \n",
    "      queue.append((new_y, new_x))\n",
    "  \n",
    "  return N * M - number_of_viruses - number_of_walls - 3"
   ]
  },
  {
   "cell_type": "code",
   "execution_count": 48,
   "metadata": {},
   "outputs": [],
   "source": [
    "wall_left = 3\n",
    "\n",
    "max_area = 0\n",
    "\n",
    "for i1 in range(N):\n",
    "  for j1 in range(M):\n",
    "    copied_1 = copy.deepcopy(grid)\n",
    "\n",
    "    # print(\"level 1\", i1, j1)\n",
    "\n",
    "    if copied_1[i1][j1] in [1,2]:\n",
    "      continue\n",
    "\n",
    "    copied_1[i1][j1] = 1\n",
    "    \n",
    "    for i2 in range(N):\n",
    "      for j2 in range(M):\n",
    "        copied_2 = copy.deepcopy(copied_1)\n",
    "        \n",
    "        # print(\"level 2\", i2, j2)\n",
    "\n",
    "        if copied_2[i2][j2] in [1,2]:\n",
    "          continue\n",
    "\n",
    "        copied_2[i2][j2] = 1\n",
    "        \n",
    "        for i3 in range(N):\n",
    "          for j3 in range(M):\n",
    "            copied_3 = copy.deepcopy(copied_2)\n",
    "\n",
    "            # print(\"level 3\", i3, j3)\n",
    "\n",
    "            if copied_3[i3][j3] in [1,2]:\n",
    "              continue\n",
    "\n",
    "            copied_3[i3][j3] = 1\n",
    "\n",
    "            max_area = max(max_area, calculate_area(copied_3))\n",
    "            "
   ]
  },
  {
   "cell_type": "code",
   "execution_count": 49,
   "metadata": {},
   "outputs": [
    {
     "name": "stdout",
     "output_type": "stream",
     "text": [
      "3\n"
     ]
    }
   ],
   "source": [
    "print(max_area)"
   ]
  },
  {
   "cell_type": "markdown",
   "metadata": {},
   "source": [
    "[[1, 1, 1, 2, 2, 0], \n",
    "[1, 0, 0, 2, 2, 2], \n",
    "[1, 1, 1, 0, 2, 2], \n",
    "[0, 0, 0, 0, 0, 2]]\n"
   ]
  },
  {
   "cell_type": "code",
   "execution_count": null,
   "metadata": {},
   "outputs": [],
   "source": []
  }
 ],
 "metadata": {
  "kernelspec": {
   "display_name": "base",
   "language": "python",
   "name": "python3"
  },
  "language_info": {
   "codemirror_mode": {
    "name": "ipython",
    "version": 3
   },
   "file_extension": ".py",
   "mimetype": "text/x-python",
   "name": "python",
   "nbconvert_exporter": "python",
   "pygments_lexer": "ipython3",
   "version": "3.11.8"
  }
 },
 "nbformat": 4,
 "nbformat_minor": 2
}
