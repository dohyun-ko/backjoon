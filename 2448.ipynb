{
 "cells": [
  {
   "cell_type": "code",
   "execution_count": 40,
   "metadata": {},
   "outputs": [],
   "source": [
    "N = int(input())\n",
    "blueprint = [[\" \" for i in range(N*2 - 1)] for j in range(N)]"
   ]
  },
  {
   "cell_type": "code",
   "execution_count": 41,
   "metadata": {},
   "outputs": [],
   "source": [
    "def triange(height, start_at):\n",
    "  m, n = start_at\n",
    "  if height == 3:\n",
    "    blueprint[m][n] = \"*\"\n",
    "    \n",
    "    blueprint[m + 1][n - 1] = \"*\"\n",
    "    blueprint[m + 1][n + 1] = \"*\"\n",
    "    \n",
    "    blueprint[m + 2][n - 2] = \"*\"\n",
    "    blueprint[m + 2][n - 1] = \"*\"\n",
    "    blueprint[m + 2][n] = \"*\"\n",
    "    blueprint[m + 2][n + 1] = \"*\"\n",
    "    blueprint[m + 2][n + 2] = \"*\"\n",
    "    \n",
    "\n",
    "    return\n",
    "\n",
    "  triange(height/2, start_at)\n",
    "  triange(height/2, (int(m + height/2), int(n - height/2)))\n",
    "  triange(height/2, (int(m + height/2), int(n + height/2)))\n",
    "  "
   ]
  },
  {
   "cell_type": "code",
   "execution_count": 42,
   "metadata": {},
   "outputs": [],
   "source": [
    "triange(N, (0, N - 1))"
   ]
  },
  {
   "cell_type": "code",
   "execution_count": 43,
   "metadata": {},
   "outputs": [
    {
     "name": "stdout",
     "output_type": "stream",
     "text": [
      "                       *                       \n",
      "                      * *                      \n",
      "                     *****                     \n",
      "                    *     *                    \n",
      "                   * *   * *                   \n",
      "                  ***** *****                  \n",
      "                 *           *                 \n",
      "                * *         * *                \n",
      "               *****       *****               \n",
      "              *     *     *     *              \n",
      "             * *   * *   * *   * *             \n",
      "            ***** ***** ***** *****            \n",
      "           *                       *           \n",
      "          * *                     * *          \n",
      "         *****                   *****         \n",
      "        *     *                 *     *        \n",
      "       * *   * *               * *   * *       \n",
      "      ***** *****             ***** *****      \n",
      "     *           *           *           *     \n",
      "    * *         * *         * *         * *    \n",
      "   *****       *****       *****       *****   \n",
      "  *     *     *     *     *     *     *     *  \n",
      " * *   * *   * *   * *   * *   * *   * *   * * \n",
      "***** ***** ***** ***** ***** ***** ***** *****\n"
     ]
    }
   ],
   "source": [
    "for line in blueprint:\n",
    "  for char in line:\n",
    "    print(char, end=\"\")\n",
    "  print(\"\")"
   ]
  },
  {
   "cell_type": "code",
   "execution_count": null,
   "metadata": {},
   "outputs": [],
   "source": []
  }
 ],
 "metadata": {
  "kernelspec": {
   "display_name": "base",
   "language": "python",
   "name": "python3"
  },
  "language_info": {
   "codemirror_mode": {
    "name": "ipython",
    "version": 3
   },
   "file_extension": ".py",
   "mimetype": "text/x-python",
   "name": "python",
   "nbconvert_exporter": "python",
   "pygments_lexer": "ipython3",
   "version": "3.11.4"
  }
 },
 "nbformat": 4,
 "nbformat_minor": 2
}
