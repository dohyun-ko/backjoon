{
 "cells": [
  {
   "cell_type": "code",
   "execution_count": 1,
   "metadata": {},
   "outputs": [],
   "source": [
    "n = int(input())\n",
    "\n",
    "S = []\n",
    "for i in range(n):\n",
    "  S.append(input())"
   ]
  },
  {
   "cell_type": "code",
   "execution_count": 51,
   "metadata": {},
   "outputs": [],
   "source": [
    "def find_pattern(s):\n",
    "  if len(s) == 0:\n",
    "    return\n",
    "\n",
    "  if s[0] == '0' and s[1] == '1':\n",
    "    find_pattern(s[2:])\n",
    "  elif s[0] == '1' and s[1] == '0' and s[2] == '0':\n",
    "    s_index = 3\n",
    "    while s_index < len(s):\n",
    "      if s[s_index] == '0':\n",
    "        s_index += 1\n",
    "      else:\n",
    "        break\n",
    "    \n",
    "    if s[s_index] == '1':\n",
    "      succeed = False\n",
    "      while s[s_index] == '1':\n",
    "        try:\n",
    "          find_pattern(s[(s_index + 1):])\n",
    "          succeed = True\n",
    "          break\n",
    "        except:\n",
    "          s_index += 1\n",
    "          continue\n",
    "      if not succeed:\n",
    "        raise\n",
    "\n",
    "    else:\n",
    "      raise\n",
    "    \n",
    "  else:\n",
    "    raise\n",
    "\n",
    "\n",
    "\n",
    "  "
   ]
  },
  {
   "cell_type": "code",
   "execution_count": 52,
   "metadata": {},
   "outputs": [
    {
     "name": "stdout",
     "output_type": "stream",
     "text": [
      "10010111\n",
      "0111\n",
      "11\n",
      "NO\n",
      "011000100110001\n",
      "1000100110001\n",
      "00110001\n",
      "NO\n",
      "0110001011001\n",
      "10001011001\n",
      "011001\n",
      "1001\n",
      "\n",
      "YES\n"
     ]
    }
   ],
   "source": [
    "for s in S:\n",
    "  if len(s) > 0:\n",
    "    try:\n",
    "      find_pattern(s)\n",
    "      print(\"YES\")\n",
    "    except:\n",
    "      print(\"NO\")\n",
    "  else:\n",
    "    print(\"NO\")"
   ]
  },
  {
   "cell_type": "code",
   "execution_count": 53,
   "metadata": {},
   "outputs": [
    {
     "name": "stdout",
     "output_type": "stream",
     "text": [
      "1000000\n"
     ]
    },
    {
     "ename": "IndexError",
     "evalue": "string index out of range",
     "output_type": "error",
     "traceback": [
      "\u001b[0;31m---------------------------------------------------------------------------\u001b[0m",
      "\u001b[0;31mIndexError\u001b[0m                                Traceback (most recent call last)",
      "Cell \u001b[0;32mIn[53], line 1\u001b[0m\n\u001b[0;32m----> 1\u001b[0m \u001b[43mfind_pattern\u001b[49m\u001b[43m(\u001b[49m\u001b[38;5;124;43m\"\u001b[39;49m\u001b[38;5;124;43m1000000\u001b[39;49m\u001b[38;5;124;43m\"\u001b[39;49m\u001b[43m)\u001b[49m\n",
      "Cell \u001b[0;32mIn[51], line 17\u001b[0m, in \u001b[0;36mfind_pattern\u001b[0;34m(s)\u001b[0m\n\u001b[1;32m     14\u001b[0m   \u001b[38;5;28;01melse\u001b[39;00m:\n\u001b[1;32m     15\u001b[0m     \u001b[38;5;28;01mbreak\u001b[39;00m\n\u001b[0;32m---> 17\u001b[0m \u001b[38;5;28;01mif\u001b[39;00m \u001b[43ms\u001b[49m\u001b[43m[\u001b[49m\u001b[43ms_index\u001b[49m\u001b[43m]\u001b[49m \u001b[38;5;241m==\u001b[39m \u001b[38;5;124m'\u001b[39m\u001b[38;5;124m1\u001b[39m\u001b[38;5;124m'\u001b[39m:\n\u001b[1;32m     18\u001b[0m   succeed \u001b[38;5;241m=\u001b[39m \u001b[38;5;28;01mFalse\u001b[39;00m\n\u001b[1;32m     19\u001b[0m   \u001b[38;5;28;01mwhile\u001b[39;00m s[s_index] \u001b[38;5;241m==\u001b[39m \u001b[38;5;124m'\u001b[39m\u001b[38;5;124m1\u001b[39m\u001b[38;5;124m'\u001b[39m:\n",
      "\u001b[0;31mIndexError\u001b[0m: string index out of range"
     ]
    }
   ],
   "source": [
    "find_pattern(\"1000000\")"
   ]
  },
  {
   "cell_type": "code",
   "execution_count": 54,
   "metadata": {},
   "outputs": [
    {
     "name": "stdout",
     "output_type": "stream",
     "text": [
      "10011001\n",
      "1001\n",
      "\n"
     ]
    }
   ],
   "source": [
    "find_pattern(\"10011001\")"
   ]
  },
  {
   "cell_type": "code",
   "execution_count": null,
   "metadata": {},
   "outputs": [],
   "source": []
  }
 ],
 "metadata": {
  "kernelspec": {
   "display_name": "Python 3",
   "language": "python",
   "name": "python3"
  },
  "language_info": {
   "codemirror_mode": {
    "name": "ipython",
    "version": 3
   },
   "file_extension": ".py",
   "mimetype": "text/x-python",
   "name": "python",
   "nbconvert_exporter": "python",
   "pygments_lexer": "ipython3",
   "version": "3.11.4"
  }
 },
 "nbformat": 4,
 "nbformat_minor": 2
}
