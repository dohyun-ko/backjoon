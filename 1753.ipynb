{
 "cells": [
  {
   "cell_type": "code",
   "execution_count": 8,
   "metadata": {},
   "outputs": [],
   "source": [
    "N, M= map(int, input().split())\n",
    "X = int(input())"
   ]
  },
  {
   "cell_type": "code",
   "execution_count": 9,
   "metadata": {},
   "outputs": [],
   "source": [
    "distances = [[] for j in range(N + 1)]\n",
    "for _ in range(M):\n",
    "  a, b, c = map(int, input().split())\n",
    "  distances[a].append((c, b))"
   ]
  },
  {
   "cell_type": "code",
   "execution_count": 10,
   "metadata": {},
   "outputs": [],
   "source": [
    "import heapq\n",
    "\n",
    "from_start = [float('inf')] * (N + 1)\n",
    "\n",
    "def dijkstra(start, distances):\n",
    "  q = []\n",
    "  heapq.heappush(q, (0, start))\n",
    "\n",
    "  while q:\n",
    "    dist, now = heapq.heappop(q)\n",
    "\n",
    "    if from_start[now] < dist:\n",
    "      continue\n",
    "\n",
    "    for c, e in distances[now]:\n",
    "      cost = dist + c\n",
    "\n",
    "      if cost < from_start[e]:\n",
    "        from_start[e] = cost\n",
    "        heapq.heappush(q, (cost, e))"
   ]
  },
  {
   "cell_type": "code",
   "execution_count": 11,
   "metadata": {},
   "outputs": [],
   "source": [
    "from_start[X] = 0"
   ]
  },
  {
   "cell_type": "code",
   "execution_count": 12,
   "metadata": {},
   "outputs": [],
   "source": [
    "dijkstra(X, distances)"
   ]
  },
  {
   "cell_type": "code",
   "execution_count": 13,
   "metadata": {},
   "outputs": [
    {
     "name": "stdout",
     "output_type": "stream",
     "text": [
      "0\n",
      "2\n",
      "3\n",
      "7\n",
      "inf\n"
     ]
    }
   ],
   "source": [
    "for i in range(1, N + 1):\n",
    "  print(from_start[i] if not from_start[i] == float(\"inf\") else \"INF\")"
   ]
  },
  {
   "cell_type": "code",
   "execution_count": null,
   "metadata": {},
   "outputs": [],
   "source": []
  }
 ],
 "metadata": {
  "kernelspec": {
   "display_name": "base",
   "language": "python",
   "name": "python3"
  },
  "language_info": {
   "codemirror_mode": {
    "name": "ipython",
    "version": 3
   },
   "file_extension": ".py",
   "mimetype": "text/x-python",
   "name": "python",
   "nbconvert_exporter": "python",
   "pygments_lexer": "ipython3",
   "version": "3.11.4"
  }
 },
 "nbformat": 4,
 "nbformat_minor": 2
}
