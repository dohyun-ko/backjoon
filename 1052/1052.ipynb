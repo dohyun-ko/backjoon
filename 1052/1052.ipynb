{
 "cells": [
  {
   "cell_type": "code",
   "execution_count": 38,
   "metadata": {},
   "outputs": [],
   "source": [
    "n, k = list(map((lambda x: int(x)), input().split(\" \")))"
   ]
  },
  {
   "cell_type": "code",
   "execution_count": 46,
   "metadata": {},
   "outputs": [
    {
     "name": "stdout",
     "output_type": "stream",
     "text": [
      "15808\n"
     ]
    }
   ],
   "source": [
    "bottles = [n]\n",
    "\n",
    "bottles[0] = n\n",
    "\n",
    "bought = 0\n",
    "\n",
    "i = 0\n",
    "while i < (l := len(bottles)):\n",
    "  if  (val := bottles[i] // 2) > 0 and i == l - 1:\n",
    "    bottles.append(0)\n",
    "  if val > 0:\n",
    "    bottles[i + 1] += val\n",
    "    bottles[i] = bottles[i] % 2\n",
    "  i += 1\n",
    "\n",
    "\n",
    "while sum(bottles) > k:\n",
    "  bought += 1\n",
    "  bottles[0] += 1\n",
    "\n",
    "  i = 0\n",
    "  while i < (l := len(bottles)):\n",
    "    if (val := bottles[i] // 2) > 0 and i == l - 1:\n",
    "      bottles.append(0)\n",
    "    if val > 0:\n",
    "      bottles[i + 1] += val\n",
    "      bottles[i] = bottles[i] % 2\n",
    "    i += 1\n",
    "\n",
    "print(bought)"
   ]
  },
  {
   "cell_type": "code",
   "execution_count": null,
   "metadata": {},
   "outputs": [],
   "source": []
  }
 ],
 "metadata": {
  "kernelspec": {
   "display_name": "Python 3",
   "language": "python",
   "name": "python3"
  },
  "language_info": {
   "codemirror_mode": {
    "name": "ipython",
    "version": 3
   },
   "file_extension": ".py",
   "mimetype": "text/x-python",
   "name": "python",
   "nbconvert_exporter": "python",
   "pygments_lexer": "ipython3",
   "version": "3.11.4"
  }
 },
 "nbformat": 4,
 "nbformat_minor": 2
}
