{
 "cells": [
  {
   "cell_type": "code",
   "execution_count": 17,
   "metadata": {},
   "outputs": [],
   "source": [
    "def computer(memory):\n",
    "  pc = 0\n",
    "  adder = 0\n",
    "  while True:\n",
    "    command = memory[pc][0:3]\n",
    "    operand = int(memory[pc][3:8], 2)\n",
    "\n",
    "    pc += 1\n",
    "    if pc > 31:\n",
    "      pc = 0\n",
    "\n",
    "    if command == \"000\":\n",
    "      memory[operand] = bin(adder)[2:].zfill(8)\n",
    "\n",
    "    elif command == \"001\":\n",
    "      adder = int(memory[operand], 2)\n",
    "      \n",
    "    elif command == \"010\":\n",
    "      if adder == 0:\n",
    "        pc = operand\n",
    "      \n",
    "    elif command == \"011\":\n",
    "      pass\n",
    "\n",
    "    elif command == \"100\":\n",
    "      adder -= 1\n",
    "      if adder < 0:\n",
    "        adder = 255\n",
    "\n",
    "    elif command == \"101\":\n",
    "      adder += 1\n",
    "      if adder > 255:\n",
    "        adder = 0\n",
    "\n",
    "    elif command == \"110\":\n",
    "      pc = operand\n",
    "      \n",
    "    elif command == \"111\":\n",
    "      break\n",
    "\n",
    "  print(bin(adder)[2:].zfill(8))"
   ]
  },
  {
   "cell_type": "code",
   "execution_count": 18,
   "metadata": {},
   "outputs": [
    {
     "name": "stdout",
     "output_type": "stream",
     "text": [
      "10000111\n",
      "10000111\n"
     ]
    }
   ],
   "source": [
    "counter = 0\n",
    "memory = [0] * 32\n",
    "file = open(\"./input.txt\", \"r\")\n",
    "while True:\n",
    "  try:\n",
    "    command = file.readline().replace(\"\\n\", \"\")\n",
    "    if not command:\n",
    "      break\n",
    "  except EOFError:\n",
    "    break\n",
    "  memory[counter] = command\n",
    "  counter += 1\n",
    "\n",
    "  if counter == 32:\n",
    "    computer(memory)\n",
    "    counter = 0"
   ]
  },
  {
   "cell_type": "code",
   "execution_count": 19,
   "metadata": {},
   "outputs": [
    {
     "data": {
      "text/plain": [
       "'00111110\\n'"
      ]
     },
     "execution_count": 19,
     "metadata": {},
     "output_type": "execute_result"
    }
   ],
   "source": [
    "file = open(\"./input.txt\", \"r\")\n",
    "\n",
    "file.readline()"
   ]
  },
  {
   "cell_type": "code",
   "execution_count": null,
   "metadata": {},
   "outputs": [],
   "source": []
  }
 ],
 "metadata": {
  "kernelspec": {
   "display_name": "base",
   "language": "python",
   "name": "python3"
  },
  "language_info": {
   "codemirror_mode": {
    "name": "ipython",
    "version": 3
   },
   "file_extension": ".py",
   "mimetype": "text/x-python",
   "name": "python",
   "nbconvert_exporter": "python",
   "pygments_lexer": "ipython3",
   "version": "3.11.4"
  }
 },
 "nbformat": 4,
 "nbformat_minor": 2
}
