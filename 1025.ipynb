{
 "cells": [
  {
   "cell_type": "code",
   "execution_count": 61,
   "metadata": {},
   "outputs": [],
   "source": [
    "N, M = list(map(int, input().split()))\n",
    "\n",
    "grid = [input() for x in range(N)]"
   ]
  },
  {
   "cell_type": "code",
   "execution_count": 62,
   "metadata": {},
   "outputs": [],
   "source": [
    "nums = set()\n",
    "\n",
    "for i in range(N):\n",
    "  for j in range(M):\n",
    "\n",
    "    for gap_n in range(-8, 9):\n",
    "      for gap_m in range(-8, 9):\n",
    "        num_str = ''\n",
    "\n",
    "        if gap_n == 0 and gap_m == 0:\n",
    "          num_str += grid[i][j]\n",
    "          continue\n",
    "\n",
    "        new_n = i\n",
    "        new_m = j\n",
    "\n",
    "        while 0 <= new_n < N and 0 <= new_m < M:\n",
    "          num_str += grid[new_n][new_m]\n",
    "\n",
    "          new_n += gap_n\n",
    "          new_m += gap_m\n",
    "          nums.add(int(num_str))\n",
    "        \n"
   ]
  },
  {
   "cell_type": "code",
   "execution_count": 63,
   "metadata": {},
   "outputs": [],
   "source": [
    "nums = sorted(list(nums), reverse=True)"
   ]
  },
  {
   "cell_type": "code",
   "execution_count": 64,
   "metadata": {},
   "outputs": [
    {
     "name": "stdout",
     "output_type": "stream",
     "text": [
      "16\n"
     ]
    }
   ],
   "source": [
    "answer = -1\n",
    "\n",
    "for num in nums:\n",
    "  if num ** 0.5 % 1 == 0:\n",
    "    answer = num\n",
    "    break\n",
    "\n",
    "print(answer)\n"
   ]
  },
  {
   "cell_type": "code",
   "execution_count": null,
   "metadata": {},
   "outputs": [],
   "source": []
  }
 ],
 "metadata": {
  "kernelspec": {
   "display_name": "base",
   "language": "python",
   "name": "python3"
  },
  "language_info": {
   "codemirror_mode": {
    "name": "ipython",
    "version": 3
   },
   "file_extension": ".py",
   "mimetype": "text/x-python",
   "name": "python",
   "nbconvert_exporter": "python",
   "pygments_lexer": "ipython3",
   "version": "3.11.8"
  }
 },
 "nbformat": 4,
 "nbformat_minor": 2
}
