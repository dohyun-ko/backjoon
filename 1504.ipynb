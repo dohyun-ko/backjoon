{
 "cells": [
  {
   "cell_type": "code",
   "execution_count": 16,
   "metadata": {},
   "outputs": [],
   "source": [
    "N, M = map(int, input().split())"
   ]
  },
  {
   "cell_type": "code",
   "execution_count": 17,
   "metadata": {},
   "outputs": [],
   "source": [
    "distances = [[(float(\"inf\"), i) for i in range(N + 1)] for j in range(N + 1)]\n",
    "for _ in range(M):\n",
    "  a, b, c = map(int, input().split())\n",
    "  distances[a][b] = (c, b)\n",
    "  distances[b][a] = (c, a)\n",
    "\n",
    "v1, v2 = map(int, input().split())"
   ]
  },
  {
   "cell_type": "code",
   "execution_count": 18,
   "metadata": {},
   "outputs": [],
   "source": [
    "import heapq\n",
    "\n",
    "def dijkstra(start, distances):\n",
    "  q = distances[start].copy()\n",
    "\n",
    "  heapq.heapify(q)\n",
    "\n",
    "  while q:\n",
    "    dist, now = heapq.heappop(q)\n",
    "\n",
    "    if distances[start][now][0] < dist:\n",
    "      continue\n",
    "\n",
    "    for c, e in distances[now]:\n",
    "      cost = dist + c\n",
    "\n",
    "      if cost < distances[start][e][0]:\n",
    "        distances[start][e] = (cost, e)\n",
    "        heapq.heappush(q, (cost, e))"
   ]
  },
  {
   "cell_type": "code",
   "execution_count": 19,
   "metadata": {},
   "outputs": [],
   "source": [
    "dijkstra(1, distances)\n",
    "dijkstra(v1, distances)\n",
    "dijkstra(v2, distances)"
   ]
  },
  {
   "cell_type": "code",
   "execution_count": 20,
   "metadata": {},
   "outputs": [
    {
     "name": "stdout",
     "output_type": "stream",
     "text": [
      "(3, 2) (3, 3) (5, 1)\n",
      "(3, 2) (3, 3) (3, 2)\n",
      "(3, 2) (3, 3) (2, 3)\n",
      "(3, 2) (3, 3) (1, 4)\n",
      "7\n"
     ]
    }
   ],
   "source": [
    "min_dist = float(\"inf\")\n",
    "\n",
    "for i in range(1, N + 1):\n",
    "  min_dist = min(min_dist, distances[1][v1][0] + distances[v1][v2][0] + distances[v2][i][0])\n",
    "\n",
    "for i in range(1, N + 1):\n",
    "  min_dist = min(min_dist, distances[1][v2][0] + distances[v2][v1][0] + distances[v1][i][0])\n",
    "\n",
    "print(min_dist)"
   ]
  },
  {
   "cell_type": "code",
   "execution_count": null,
   "metadata": {},
   "outputs": [],
   "source": []
  }
 ],
 "metadata": {
  "kernelspec": {
   "display_name": "base",
   "language": "python",
   "name": "python3"
  },
  "language_info": {
   "codemirror_mode": {
    "name": "ipython",
    "version": 3
   },
   "file_extension": ".py",
   "mimetype": "text/x-python",
   "name": "python",
   "nbconvert_exporter": "python",
   "pygments_lexer": "ipython3",
   "version": "3.11.4"
  }
 },
 "nbformat": 4,
 "nbformat_minor": 2
}
