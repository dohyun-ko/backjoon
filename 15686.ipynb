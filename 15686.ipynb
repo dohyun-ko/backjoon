{
 "cells": [
  {
   "cell_type": "code",
   "execution_count": 33,
   "metadata": {},
   "outputs": [
    {
     "ename": "ValueError",
     "evalue": "not enough values to unpack (expected 2, got 0)",
     "output_type": "error",
     "traceback": [
      "\u001b[0;31m---------------------------------------------------------------------------\u001b[0m",
      "\u001b[0;31mValueError\u001b[0m                                Traceback (most recent call last)",
      "Cell \u001b[0;32mIn[33], line 1\u001b[0m\n\u001b[0;32m----> 1\u001b[0m N, M \u001b[38;5;241m=\u001b[39m \u001b[38;5;28mmap\u001b[39m(\u001b[38;5;28mint\u001b[39m, \u001b[38;5;28minput\u001b[39m()\u001b[38;5;241m.\u001b[39msplit())\n\u001b[1;32m      2\u001b[0m houses \u001b[38;5;241m=\u001b[39m []\n\u001b[1;32m      3\u001b[0m chickens \u001b[38;5;241m=\u001b[39m []\n",
      "\u001b[0;31mValueError\u001b[0m: not enough values to unpack (expected 2, got 0)"
     ]
    }
   ],
   "source": [
    "N, M = map(int, input().split())\n",
    "houses = []\n",
    "chickens = []\n",
    "\n",
    "for i in range(N):\n",
    "  buildings = list(map(int, input().split()))\n",
    "  for j in range(len(buildings)):\n",
    "    if buildings[j] == 1:\n",
    "      houses.append((i, j))\n",
    "    elif buildings[j] == 2:\n",
    "      chickens.append((i, j))"
   ]
  },
  {
   "cell_type": "code",
   "execution_count": 31,
   "metadata": {},
   "outputs": [],
   "source": [
    "def cal_city_cost(chickens):\n",
    "  city_cost = 0\n",
    "  for h in houses:\n",
    "    min_cost = abs(h[0] - chickens[0][0]) + abs(h[1] - chickens[0][1])\n",
    "    for c in chickens:\n",
    "      min_cost = min(min_cost, abs(h[0] - c[0]) + abs(h[1] - c[1]))\n",
    "    city_cost += min_cost\n",
    "  \n",
    "  return city_cost"
   ]
  },
  {
   "cell_type": "code",
   "execution_count": 32,
   "metadata": {},
   "outputs": [
    {
     "name": "stdout",
     "output_type": "stream",
     "text": [
      "10\n"
     ]
    }
   ],
   "source": [
    "from itertools import combinations\n",
    "\n",
    "combi = list(combinations(chickens, M))\n",
    "\n",
    "min_city_cost = float(\"inf\")\n",
    "\n",
    "for c in combi:\n",
    "  min_city_cost = min(min_city_cost, cal_city_cost(list(c)))\n",
    "\n",
    "print(min_city_cost)"
   ]
  }
 ],
 "metadata": {
  "kernelspec": {
   "display_name": "base",
   "language": "python",
   "name": "python3"
  },
  "language_info": {
   "codemirror_mode": {
    "name": "ipython",
    "version": 3
   },
   "file_extension": ".py",
   "mimetype": "text/x-python",
   "name": "python",
   "nbconvert_exporter": "python",
   "pygments_lexer": "ipython3",
   "version": "3.11.4"
  }
 },
 "nbformat": 4,
 "nbformat_minor": 2
}
