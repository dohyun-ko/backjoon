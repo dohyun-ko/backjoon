{
 "cells": [
  {
   "cell_type": "code",
   "execution_count": 47,
   "metadata": {},
   "outputs": [],
   "source": [
    "N = int(input())\n",
    "\n",
    "graph = [[] for _ in range(N+1)]\n",
    "\n",
    "for i in range(N):\n",
    "  line = list(map(int, input().split()))\n",
    "\n",
    "  i = 1\n",
    "  while i < len(line) - 2:\n",
    "    graph[line[0]].append((line[i+1], line[i]))\n",
    "    graph[line[i]].append((line[i+1], line[0]))\n",
    "    i += 2"
   ]
  },
  {
   "cell_type": "code",
   "execution_count": 59,
   "metadata": {},
   "outputs": [],
   "source": [
    "max_distance = 0\n",
    "for i in range(1, N+1):\n",
    "  # distances = [float(\"inf\") for i in range(N+1)]\n",
    "\n",
    "  stack = [(i, 0, None)]\n",
    "\n",
    "  # memos = {}\n",
    "\n",
    "  while stack:\n",
    "    now, cost, prev = stack.pop()\n",
    "    # print(i, now, cost)\n",
    "\n",
    "    key = (now, cost)\n",
    "\n",
    "    # if key in memos:\n",
    "    #   continue\n",
    "    # else:\n",
    "    #   memos[key] = cost\n",
    "    \n",
    "    # if cost < distances[now]:\n",
    "    #   distances[now] = cost\n",
    "\n",
    "    if cost > max_distance:\n",
    "      max_distance = cost\n",
    "\n",
    "    for adj in graph[now]:\n",
    "      if adj[1] != prev:\n",
    "        stack.append((adj[1], cost + adj[0], now))\n",
    "  \n",
    "  # for j in range(1, N+1):\n",
    "  #   if distances[j] != float(\"inf\"):\n",
    "  #     max_distance = max(max_distance, distances[j])\n",
    "  "
   ]
  },
  {
   "cell_type": "code",
   "execution_count": 60,
   "metadata": {},
   "outputs": [
    {
     "name": "stdout",
     "output_type": "stream",
     "text": [
      "11\n"
     ]
    }
   ],
   "source": [
    "print(max_distance)"
   ]
  },
  {
   "cell_type": "code",
   "execution_count": null,
   "metadata": {},
   "outputs": [],
   "source": []
  }
 ],
 "metadata": {
  "kernelspec": {
   "display_name": "Python 3",
   "language": "python",
   "name": "python3"
  },
  "language_info": {
   "codemirror_mode": {
    "name": "ipython",
    "version": 3
   },
   "file_extension": ".py",
   "mimetype": "text/x-python",
   "name": "python",
   "nbconvert_exporter": "python",
   "pygments_lexer": "ipython3",
   "version": "3.9.6"
  }
 },
 "nbformat": 4,
 "nbformat_minor": 2
}
