{
 "cells": [
  {
   "cell_type": "code",
   "execution_count": 40,
   "metadata": {},
   "outputs": [],
   "source": [
    "N, K = map(int, input().split())"
   ]
  },
  {
   "cell_type": "code",
   "execution_count": 41,
   "metadata": {},
   "outputs": [],
   "source": [
    "from collections import deque\n",
    "\n",
    "q = deque([])\n",
    "\n",
    "min_time = float('inf')\n",
    "methods = 0\n",
    "\n",
    "visited = [float('inf') for i in range(100001)]\n",
    "\n",
    "if N > K:\n",
    "  min_time = N - K\n",
    "  methods = 1\n",
    "else:\n",
    "  q.append((N, 0))\n",
    "\n",
    "while q:\n",
    "  position, time = q.popleft()\n",
    "\n",
    "  visited[position] = time\n",
    "\n",
    "  if time > min_time:\n",
    "    continue\n",
    "\n",
    "  if position == K:\n",
    "    if time < min_time:\n",
    "      min_time = time\n",
    "      methods = 1\n",
    "    else:\n",
    "      methods += 1\n",
    "  \n",
    "  adjs = []\n",
    "\n",
    "  adjs.append((position * 2, time + 1))\n",
    "  adjs.append((position - 1, time + 1))\n",
    "  adjs.append((position + 1, time + 1))\n",
    "\n",
    "  for adj in adjs:\n",
    "    if adj[0] > 100000 or adj[0] < 0:\n",
    "      continue\n",
    "\n",
    "    if visited[adj[0]] < adj[1]:\n",
    "      continue\n",
    "\n",
    "    q.append(adj)\n"
   ]
  },
  {
   "cell_type": "code",
   "execution_count": 42,
   "metadata": {},
   "outputs": [
    {
     "name": "stdout",
     "output_type": "stream",
     "text": [
      "100000\n",
      "1\n"
     ]
    }
   ],
   "source": [
    "print(min_time)\n",
    "print(methods)"
   ]
  },
  {
   "cell_type": "code",
   "execution_count": null,
   "metadata": {},
   "outputs": [],
   "source": []
  }
 ],
 "metadata": {
  "kernelspec": {
   "display_name": "Python 3",
   "language": "python",
   "name": "python3"
  },
  "language_info": {
   "codemirror_mode": {
    "name": "ipython",
    "version": 3
   },
   "file_extension": ".py",
   "mimetype": "text/x-python",
   "name": "python",
   "nbconvert_exporter": "python",
   "pygments_lexer": "ipython3",
   "version": "3.9.6"
  }
 },
 "nbformat": 4,
 "nbformat_minor": 2
}
